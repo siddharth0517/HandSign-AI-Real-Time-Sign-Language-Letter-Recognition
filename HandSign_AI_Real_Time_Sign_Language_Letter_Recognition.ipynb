{
  "nbformat": 4,
  "nbformat_minor": 0,
  "metadata": {
    "colab": {
      "provenance": [],
      "gpuType": "T4"
    },
    "kernelspec": {
      "name": "python3",
      "display_name": "Python 3"
    },
    "language_info": {
      "name": "python"
    },
    "accelerator": "GPU"
  },
  "cells": [
    {
      "cell_type": "code",
      "execution_count": null,
      "metadata": {
        "id": "YWOZErM3LEu0"
      },
      "outputs": [],
      "source": []
    },
    {
      "cell_type": "code",
      "source": [
        "from google.colab import drive\n",
        "drive.mount('/content/drive')"
      ],
      "metadata": {
        "id": "obBSB8foSs_L"
      },
      "execution_count": null,
      "outputs": []
    },
    {
      "cell_type": "markdown",
      "source": [
        "**1. Importing Libraries**"
      ],
      "metadata": {
        "id": "aWH3vzabjNbr"
      }
    },
    {
      "cell_type": "code",
      "source": [
        "pip install ultralytics"
      ],
      "metadata": {
        "colab": {
          "base_uri": "https://localhost:8080/"
        },
        "id": "Ergd5I8tSvvQ",
        "outputId": "8649b9da-ffdb-4dec-e327-96d0cda205a1"
      },
      "execution_count": 1,
      "outputs": [
        {
          "output_type": "stream",
          "name": "stdout",
          "text": [
            "Collecting ultralytics\n",
            "  Downloading ultralytics-8.3.68-py3-none-any.whl.metadata (35 kB)\n",
            "Requirement already satisfied: numpy>=1.23.0 in /usr/local/lib/python3.11/dist-packages (from ultralytics) (1.26.4)\n",
            "Requirement already satisfied: matplotlib>=3.3.0 in /usr/local/lib/python3.11/dist-packages (from ultralytics) (3.10.0)\n",
            "Requirement already satisfied: opencv-python>=4.6.0 in /usr/local/lib/python3.11/dist-packages (from ultralytics) (4.10.0.84)\n",
            "Requirement already satisfied: pillow>=7.1.2 in /usr/local/lib/python3.11/dist-packages (from ultralytics) (11.1.0)\n",
            "Requirement already satisfied: pyyaml>=5.3.1 in /usr/local/lib/python3.11/dist-packages (from ultralytics) (6.0.2)\n",
            "Requirement already satisfied: requests>=2.23.0 in /usr/local/lib/python3.11/dist-packages (from ultralytics) (2.32.3)\n",
            "Requirement already satisfied: scipy>=1.4.1 in /usr/local/lib/python3.11/dist-packages (from ultralytics) (1.13.1)\n",
            "Requirement already satisfied: torch>=1.8.0 in /usr/local/lib/python3.11/dist-packages (from ultralytics) (2.5.1+cu121)\n",
            "Requirement already satisfied: torchvision>=0.9.0 in /usr/local/lib/python3.11/dist-packages (from ultralytics) (0.20.1+cu121)\n",
            "Requirement already satisfied: tqdm>=4.64.0 in /usr/local/lib/python3.11/dist-packages (from ultralytics) (4.67.1)\n",
            "Requirement already satisfied: psutil in /usr/local/lib/python3.11/dist-packages (from ultralytics) (5.9.5)\n",
            "Requirement already satisfied: py-cpuinfo in /usr/local/lib/python3.11/dist-packages (from ultralytics) (9.0.0)\n",
            "Requirement already satisfied: pandas>=1.1.4 in /usr/local/lib/python3.11/dist-packages (from ultralytics) (2.2.2)\n",
            "Requirement already satisfied: seaborn>=0.11.0 in /usr/local/lib/python3.11/dist-packages (from ultralytics) (0.13.2)\n",
            "Collecting ultralytics-thop>=2.0.0 (from ultralytics)\n",
            "  Downloading ultralytics_thop-2.0.14-py3-none-any.whl.metadata (9.4 kB)\n",
            "Requirement already satisfied: contourpy>=1.0.1 in /usr/local/lib/python3.11/dist-packages (from matplotlib>=3.3.0->ultralytics) (1.3.1)\n",
            "Requirement already satisfied: cycler>=0.10 in /usr/local/lib/python3.11/dist-packages (from matplotlib>=3.3.0->ultralytics) (0.12.1)\n",
            "Requirement already satisfied: fonttools>=4.22.0 in /usr/local/lib/python3.11/dist-packages (from matplotlib>=3.3.0->ultralytics) (4.55.5)\n",
            "Requirement already satisfied: kiwisolver>=1.3.1 in /usr/local/lib/python3.11/dist-packages (from matplotlib>=3.3.0->ultralytics) (1.4.8)\n",
            "Requirement already satisfied: packaging>=20.0 in /usr/local/lib/python3.11/dist-packages (from matplotlib>=3.3.0->ultralytics) (24.2)\n",
            "Requirement already satisfied: pyparsing>=2.3.1 in /usr/local/lib/python3.11/dist-packages (from matplotlib>=3.3.0->ultralytics) (3.2.1)\n",
            "Requirement already satisfied: python-dateutil>=2.7 in /usr/local/lib/python3.11/dist-packages (from matplotlib>=3.3.0->ultralytics) (2.8.2)\n",
            "Requirement already satisfied: pytz>=2020.1 in /usr/local/lib/python3.11/dist-packages (from pandas>=1.1.4->ultralytics) (2024.2)\n",
            "Requirement already satisfied: tzdata>=2022.7 in /usr/local/lib/python3.11/dist-packages (from pandas>=1.1.4->ultralytics) (2025.1)\n",
            "Requirement already satisfied: charset-normalizer<4,>=2 in /usr/local/lib/python3.11/dist-packages (from requests>=2.23.0->ultralytics) (3.4.1)\n",
            "Requirement already satisfied: idna<4,>=2.5 in /usr/local/lib/python3.11/dist-packages (from requests>=2.23.0->ultralytics) (3.10)\n",
            "Requirement already satisfied: urllib3<3,>=1.21.1 in /usr/local/lib/python3.11/dist-packages (from requests>=2.23.0->ultralytics) (2.3.0)\n",
            "Requirement already satisfied: certifi>=2017.4.17 in /usr/local/lib/python3.11/dist-packages (from requests>=2.23.0->ultralytics) (2024.12.14)\n",
            "Requirement already satisfied: filelock in /usr/local/lib/python3.11/dist-packages (from torch>=1.8.0->ultralytics) (3.17.0)\n",
            "Requirement already satisfied: typing-extensions>=4.8.0 in /usr/local/lib/python3.11/dist-packages (from torch>=1.8.0->ultralytics) (4.12.2)\n",
            "Requirement already satisfied: networkx in /usr/local/lib/python3.11/dist-packages (from torch>=1.8.0->ultralytics) (3.4.2)\n",
            "Requirement already satisfied: jinja2 in /usr/local/lib/python3.11/dist-packages (from torch>=1.8.0->ultralytics) (3.1.5)\n",
            "Requirement already satisfied: fsspec in /usr/local/lib/python3.11/dist-packages (from torch>=1.8.0->ultralytics) (2024.10.0)\n",
            "Requirement already satisfied: nvidia-cuda-nvrtc-cu12==12.1.105 in /usr/local/lib/python3.11/dist-packages (from torch>=1.8.0->ultralytics) (12.1.105)\n",
            "Requirement already satisfied: nvidia-cuda-runtime-cu12==12.1.105 in /usr/local/lib/python3.11/dist-packages (from torch>=1.8.0->ultralytics) (12.1.105)\n",
            "Requirement already satisfied: nvidia-cuda-cupti-cu12==12.1.105 in /usr/local/lib/python3.11/dist-packages (from torch>=1.8.0->ultralytics) (12.1.105)\n",
            "Requirement already satisfied: nvidia-cudnn-cu12==9.1.0.70 in /usr/local/lib/python3.11/dist-packages (from torch>=1.8.0->ultralytics) (9.1.0.70)\n",
            "Requirement already satisfied: nvidia-cublas-cu12==12.1.3.1 in /usr/local/lib/python3.11/dist-packages (from torch>=1.8.0->ultralytics) (12.1.3.1)\n",
            "Requirement already satisfied: nvidia-cufft-cu12==11.0.2.54 in /usr/local/lib/python3.11/dist-packages (from torch>=1.8.0->ultralytics) (11.0.2.54)\n",
            "Requirement already satisfied: nvidia-curand-cu12==10.3.2.106 in /usr/local/lib/python3.11/dist-packages (from torch>=1.8.0->ultralytics) (10.3.2.106)\n",
            "Requirement already satisfied: nvidia-cusolver-cu12==11.4.5.107 in /usr/local/lib/python3.11/dist-packages (from torch>=1.8.0->ultralytics) (11.4.5.107)\n",
            "Requirement already satisfied: nvidia-cusparse-cu12==12.1.0.106 in /usr/local/lib/python3.11/dist-packages (from torch>=1.8.0->ultralytics) (12.1.0.106)\n",
            "Requirement already satisfied: nvidia-nccl-cu12==2.21.5 in /usr/local/lib/python3.11/dist-packages (from torch>=1.8.0->ultralytics) (2.21.5)\n",
            "Requirement already satisfied: nvidia-nvtx-cu12==12.1.105 in /usr/local/lib/python3.11/dist-packages (from torch>=1.8.0->ultralytics) (12.1.105)\n",
            "Requirement already satisfied: triton==3.1.0 in /usr/local/lib/python3.11/dist-packages (from torch>=1.8.0->ultralytics) (3.1.0)\n",
            "Requirement already satisfied: sympy==1.13.1 in /usr/local/lib/python3.11/dist-packages (from torch>=1.8.0->ultralytics) (1.13.1)\n",
            "Requirement already satisfied: nvidia-nvjitlink-cu12 in /usr/local/lib/python3.11/dist-packages (from nvidia-cusolver-cu12==11.4.5.107->torch>=1.8.0->ultralytics) (12.6.85)\n",
            "Requirement already satisfied: mpmath<1.4,>=1.1.0 in /usr/local/lib/python3.11/dist-packages (from sympy==1.13.1->torch>=1.8.0->ultralytics) (1.3.0)\n",
            "Requirement already satisfied: six>=1.5 in /usr/local/lib/python3.11/dist-packages (from python-dateutil>=2.7->matplotlib>=3.3.0->ultralytics) (1.17.0)\n",
            "Requirement already satisfied: MarkupSafe>=2.0 in /usr/local/lib/python3.11/dist-packages (from jinja2->torch>=1.8.0->ultralytics) (3.0.2)\n",
            "Downloading ultralytics-8.3.68-py3-none-any.whl (913 kB)\n",
            "\u001b[2K   \u001b[90m━━━━━━━━━━━━━━━━━━━━━━━━━━━━━━━━━━━━━━━━\u001b[0m \u001b[32m913.6/913.6 kB\u001b[0m \u001b[31m11.7 MB/s\u001b[0m eta \u001b[36m0:00:00\u001b[0m\n",
            "\u001b[?25hDownloading ultralytics_thop-2.0.14-py3-none-any.whl (26 kB)\n",
            "Installing collected packages: ultralytics-thop, ultralytics\n",
            "Successfully installed ultralytics-8.3.68 ultralytics-thop-2.0.14\n"
          ]
        }
      ]
    },
    {
      "cell_type": "code",
      "source": [
        "from ultralytics import YOLO\n",
        "import cv2\n",
        "import matplotlib.pyplot as plt"
      ],
      "metadata": {
        "colab": {
          "base_uri": "https://localhost:8080/"
        },
        "id": "VzkNghJGSxdA",
        "outputId": "20b25e01-804d-478d-efe2-494ea82c8673"
      },
      "execution_count": 2,
      "outputs": [
        {
          "output_type": "stream",
          "name": "stdout",
          "text": [
            "Creating new Ultralytics Settings v0.0.6 file ✅ \n",
            "View Ultralytics Settings with 'yolo settings' or at '/root/.config/Ultralytics/settings.json'\n",
            "Update Settings with 'yolo settings key=value', i.e. 'yolo settings runs_dir=path/to/dir'. For help see https://docs.ultralytics.com/quickstart/#ultralytics-settings.\n"
          ]
        }
      ]
    },
    {
      "cell_type": "markdown",
      "source": [
        "**2. Training YOLO Model**"
      ],
      "metadata": {
        "id": "ijQMYwFmjWLq"
      }
    },
    {
      "cell_type": "code",
      "source": [
        "model = YOLO(\"yolov8n.pt\")\n",
        "\n",
        "model.train(\n",
        "    data=\"sign_language.yaml\",\n",
        "    epochs=25,\n",
        "    imgsz=640,\n",
        "    batch=16,\n",
        "    name=\"sign_language_model\"\n",
        ")\n"
      ],
      "metadata": {
        "colab": {
          "base_uri": "https://localhost:8080/"
        },
        "id": "a7ZfZOLNS2NM",
        "outputId": "323a16a6-7610-4285-9c35-42d02e4b1f1d"
      },
      "execution_count": 3,
      "outputs": [
        {
          "metadata": {
            "tags": null
          },
          "name": "stdout",
          "output_type": "stream",
          "text": [
            "Downloading https://github.com/ultralytics/assets/releases/download/v8.3.0/yolov8n.pt to 'yolov8n.pt'...\n"
          ]
        },
        {
          "metadata": {
            "tags": null
          },
          "name": "stderr",
          "output_type": "stream",
          "text": [
            "100%|██████████| 6.25M/6.25M [00:00<00:00, 79.8MB/s]\n"
          ]
        },
        {
          "metadata": {
            "tags": null
          },
          "name": "stdout",
          "output_type": "stream",
          "text": [
            "Ultralytics 8.3.68 🚀 Python-3.11.11 torch-2.5.1+cu121 CUDA:0 (Tesla T4, 15102MiB)\n",
            "\u001b[34m\u001b[1mengine/trainer: \u001b[0mtask=detect, mode=train, model=yolov8n.pt, data=sign_language.yaml, epochs=25, time=None, patience=100, batch=16, imgsz=640, save=True, save_period=-1, cache=False, device=None, workers=8, project=None, name=sign_language_model, exist_ok=False, pretrained=True, optimizer=auto, verbose=True, seed=0, deterministic=True, single_cls=False, rect=False, cos_lr=False, close_mosaic=10, resume=False, amp=True, fraction=1.0, profile=False, freeze=None, multi_scale=False, overlap_mask=True, mask_ratio=4, dropout=0.0, val=True, split=val, save_json=False, save_hybrid=False, conf=None, iou=0.7, max_det=300, half=False, dnn=False, plots=True, source=None, vid_stride=1, stream_buffer=False, visualize=False, augment=False, agnostic_nms=False, classes=None, retina_masks=False, embed=None, show=False, save_frames=False, save_txt=False, save_conf=False, save_crop=False, show_labels=True, show_conf=True, show_boxes=True, line_width=None, format=torchscript, keras=False, optimize=False, int8=False, dynamic=False, simplify=True, opset=None, workspace=None, nms=False, lr0=0.01, lrf=0.01, momentum=0.937, weight_decay=0.0005, warmup_epochs=3.0, warmup_momentum=0.8, warmup_bias_lr=0.1, box=7.5, cls=0.5, dfl=1.5, pose=12.0, kobj=1.0, nbs=64, hsv_h=0.015, hsv_s=0.7, hsv_v=0.4, degrees=0.0, translate=0.1, scale=0.5, shear=0.0, perspective=0.0, flipud=0.0, fliplr=0.5, bgr=0.0, mosaic=1.0, mixup=0.0, copy_paste=0.0, copy_paste_mode=flip, auto_augment=randaugment, erasing=0.4, crop_fraction=1.0, cfg=None, tracker=botsort.yaml, save_dir=runs/detect/sign_language_model\n",
            "Downloading https://ultralytics.com/assets/Arial.ttf to '/root/.config/Ultralytics/Arial.ttf'...\n"
          ]
        },
        {
          "metadata": {
            "tags": null
          },
          "name": "stderr",
          "output_type": "stream",
          "text": [
            "100%|██████████| 755k/755k [00:00<00:00, 26.3MB/s]\n"
          ]
        },
        {
          "metadata": {
            "tags": null
          },
          "name": "stdout",
          "output_type": "stream",
          "text": [
            "Overriding model.yaml nc=80 with nc=26\n",
            "\n",
            "                   from  n    params  module                                       arguments                     \n",
            "  0                  -1  1       464  ultralytics.nn.modules.conv.Conv             [3, 16, 3, 2]                 \n",
            "  1                  -1  1      4672  ultralytics.nn.modules.conv.Conv             [16, 32, 3, 2]                \n",
            "  2                  -1  1      7360  ultralytics.nn.modules.block.C2f             [32, 32, 1, True]             \n",
            "  3                  -1  1     18560  ultralytics.nn.modules.conv.Conv             [32, 64, 3, 2]                \n",
            "  4                  -1  2     49664  ultralytics.nn.modules.block.C2f             [64, 64, 2, True]             \n",
            "  5                  -1  1     73984  ultralytics.nn.modules.conv.Conv             [64, 128, 3, 2]               \n",
            "  6                  -1  2    197632  ultralytics.nn.modules.block.C2f             [128, 128, 2, True]           \n",
            "  7                  -1  1    295424  ultralytics.nn.modules.conv.Conv             [128, 256, 3, 2]              \n",
            "  8                  -1  1    460288  ultralytics.nn.modules.block.C2f             [256, 256, 1, True]           \n",
            "  9                  -1  1    164608  ultralytics.nn.modules.block.SPPF            [256, 256, 5]                 \n",
            " 10                  -1  1         0  torch.nn.modules.upsampling.Upsample         [None, 2, 'nearest']          \n",
            " 11             [-1, 6]  1         0  ultralytics.nn.modules.conv.Concat           [1]                           \n",
            " 12                  -1  1    148224  ultralytics.nn.modules.block.C2f             [384, 128, 1]                 \n",
            " 13                  -1  1         0  torch.nn.modules.upsampling.Upsample         [None, 2, 'nearest']          \n",
            " 14             [-1, 4]  1         0  ultralytics.nn.modules.conv.Concat           [1]                           \n",
            " 15                  -1  1     37248  ultralytics.nn.modules.block.C2f             [192, 64, 1]                  \n",
            " 16                  -1  1     36992  ultralytics.nn.modules.conv.Conv             [64, 64, 3, 2]                \n",
            " 17            [-1, 12]  1         0  ultralytics.nn.modules.conv.Concat           [1]                           \n",
            " 18                  -1  1    123648  ultralytics.nn.modules.block.C2f             [192, 128, 1]                 \n",
            " 19                  -1  1    147712  ultralytics.nn.modules.conv.Conv             [128, 128, 3, 2]              \n",
            " 20             [-1, 9]  1         0  ultralytics.nn.modules.conv.Concat           [1]                           \n",
            " 21                  -1  1    493056  ultralytics.nn.modules.block.C2f             [384, 256, 1]                 \n",
            " 22        [15, 18, 21]  1    756382  ultralytics.nn.modules.head.Detect           [26, [64, 128, 256]]          \n",
            "Model summary: 225 layers, 3,015,918 parameters, 3,015,902 gradients, 8.2 GFLOPs\n",
            "\n",
            "Transferred 319/355 items from pretrained weights\n",
            "\u001b[34m\u001b[1mTensorBoard: \u001b[0mStart with 'tensorboard --logdir runs/detect/sign_language_model', view at http://localhost:6006/\n",
            "Freezing layer 'model.22.dfl.conv.weight'\n",
            "\u001b[34m\u001b[1mAMP: \u001b[0mrunning Automatic Mixed Precision (AMP) checks...\n",
            "Downloading https://github.com/ultralytics/assets/releases/download/v8.3.0/yolo11n.pt to 'yolo11n.pt'...\n"
          ]
        },
        {
          "metadata": {
            "tags": null
          },
          "name": "stderr",
          "output_type": "stream",
          "text": [
            "100%|██████████| 5.35M/5.35M [00:00<00:00, 84.8MB/s]\n"
          ]
        },
        {
          "metadata": {
            "tags": null
          },
          "name": "stdout",
          "output_type": "stream",
          "text": [
            "\u001b[34m\u001b[1mAMP: \u001b[0mchecks passed ✅\n"
          ]
        },
        {
          "output_type": "stream",
          "name": "stderr",
          "text": [
            "\u001b[34m\u001b[1mtrain: \u001b[0mScanning /content/drive/MyDrive/Colab Notebooks/sign/train/labels... 1512 images, 0 backgrounds, 0 corrupt: 100%|██████████| 1512/1512 [11:50<00:00,  2.13it/s]\n"
          ]
        },
        {
          "output_type": "stream",
          "name": "stdout",
          "text": [
            "\u001b[34m\u001b[1mtrain: \u001b[0mNew cache created: /content/drive/MyDrive/Colab Notebooks/sign/train/labels.cache\n",
            "\u001b[34m\u001b[1malbumentations: \u001b[0mBlur(p=0.01, blur_limit=(3, 7)), MedianBlur(p=0.01, blur_limit=(3, 7)), ToGray(p=0.01, num_output_channels=3, method='weighted_average'), CLAHE(p=0.01, clip_limit=(1.0, 4.0), tile_grid_size=(8, 8))\n"
          ]
        },
        {
          "output_type": "stream",
          "name": "stderr",
          "text": [
            "/usr/local/lib/python3.11/dist-packages/albumentations/__init__.py:24: UserWarning: A new version of Albumentations is available: 2.0.2 (you have 1.4.20). Upgrade using: pip install -U albumentations. To disable automatic update checks, set the environment variable NO_ALBUMENTATIONS_UPDATE to 1.\n",
            "  check_for_updates()\n",
            "\u001b[34m\u001b[1mval: \u001b[0mScanning /content/drive/MyDrive/Colab Notebooks/sign/valid/labels... 144 images, 0 backgrounds, 0 corrupt: 100%|██████████| 144/144 [01:08<00:00,  2.12it/s]"
          ]
        },
        {
          "output_type": "stream",
          "name": "stdout",
          "text": [
            "\u001b[34m\u001b[1mval: \u001b[0mNew cache created: /content/drive/MyDrive/Colab Notebooks/sign/valid/labels.cache\n"
          ]
        },
        {
          "output_type": "stream",
          "name": "stderr",
          "text": [
            "\n"
          ]
        },
        {
          "output_type": "stream",
          "name": "stdout",
          "text": [
            "Plotting labels to runs/detect/sign_language_model/labels.jpg... \n",
            "\u001b[34m\u001b[1moptimizer:\u001b[0m 'optimizer=auto' found, ignoring 'lr0=0.01' and 'momentum=0.937' and determining best 'optimizer', 'lr0' and 'momentum' automatically... \n",
            "\u001b[34m\u001b[1moptimizer:\u001b[0m AdamW(lr=0.000333, momentum=0.9) with parameter groups 57 weight(decay=0.0), 64 weight(decay=0.0005), 63 bias(decay=0.0)\n",
            "\u001b[34m\u001b[1mTensorBoard: \u001b[0mmodel graph visualization added ✅\n",
            "Image sizes 640 train, 640 val\n",
            "Using 2 dataloader workers\n",
            "Logging results to \u001b[1mruns/detect/sign_language_model\u001b[0m\n",
            "Starting training for 25 epochs...\n",
            "\n",
            "      Epoch    GPU_mem   box_loss   cls_loss   dfl_loss  Instances       Size\n"
          ]
        },
        {
          "output_type": "stream",
          "name": "stderr",
          "text": [
            "       1/25      2.25G      1.015      4.259      1.463         22        640: 100%|██████████| 95/95 [00:39<00:00,  2.42it/s]\n",
            "                 Class     Images  Instances      Box(P          R      mAP50  mAP50-95): 100%|██████████| 5/5 [00:02<00:00,  1.74it/s]"
          ]
        },
        {
          "output_type": "stream",
          "name": "stdout",
          "text": [
            "                   all        144        144     0.0467      0.918      0.159      0.122\n"
          ]
        },
        {
          "output_type": "stream",
          "name": "stderr",
          "text": [
            "\n"
          ]
        },
        {
          "output_type": "stream",
          "name": "stdout",
          "text": [
            "\n",
            "      Epoch    GPU_mem   box_loss   cls_loss   dfl_loss  Instances       Size\n"
          ]
        },
        {
          "output_type": "stream",
          "name": "stderr",
          "text": [
            "       2/25      2.23G     0.8893      3.512      1.357         15        640: 100%|██████████| 95/95 [00:35<00:00,  2.70it/s]\n",
            "                 Class     Images  Instances      Box(P          R      mAP50  mAP50-95): 100%|██████████| 5/5 [00:02<00:00,  2.32it/s]"
          ]
        },
        {
          "output_type": "stream",
          "name": "stdout",
          "text": [
            "                   all        144        144      0.331      0.554      0.384      0.294\n"
          ]
        },
        {
          "output_type": "stream",
          "name": "stderr",
          "text": [
            "\n"
          ]
        },
        {
          "output_type": "stream",
          "name": "stdout",
          "text": [
            "\n",
            "      Epoch    GPU_mem   box_loss   cls_loss   dfl_loss  Instances       Size\n"
          ]
        },
        {
          "output_type": "stream",
          "name": "stderr",
          "text": [
            "       3/25      2.23G     0.8822      3.033      1.336         19        640: 100%|██████████| 95/95 [00:34<00:00,  2.78it/s]\n",
            "                 Class     Images  Instances      Box(P          R      mAP50  mAP50-95): 100%|██████████| 5/5 [00:02<00:00,  1.78it/s]"
          ]
        },
        {
          "output_type": "stream",
          "name": "stdout",
          "text": [
            "                   all        144        144      0.503      0.518      0.523        0.4\n"
          ]
        },
        {
          "output_type": "stream",
          "name": "stderr",
          "text": [
            "\n"
          ]
        },
        {
          "output_type": "stream",
          "name": "stdout",
          "text": [
            "\n",
            "      Epoch    GPU_mem   box_loss   cls_loss   dfl_loss  Instances       Size\n"
          ]
        },
        {
          "output_type": "stream",
          "name": "stderr",
          "text": [
            "       4/25      2.23G     0.8698      2.706      1.304         21        640: 100%|██████████| 95/95 [00:34<00:00,  2.78it/s]\n",
            "                 Class     Images  Instances      Box(P          R      mAP50  mAP50-95): 100%|██████████| 5/5 [00:03<00:00,  1.54it/s]"
          ]
        },
        {
          "output_type": "stream",
          "name": "stdout",
          "text": [
            "                   all        144        144      0.464      0.695      0.686      0.579\n"
          ]
        },
        {
          "output_type": "stream",
          "name": "stderr",
          "text": [
            "\n"
          ]
        },
        {
          "output_type": "stream",
          "name": "stdout",
          "text": [
            "\n",
            "      Epoch    GPU_mem   box_loss   cls_loss   dfl_loss  Instances       Size\n"
          ]
        },
        {
          "output_type": "stream",
          "name": "stderr",
          "text": [
            "       5/25      2.23G     0.8493       2.49      1.298         21        640: 100%|██████████| 95/95 [00:34<00:00,  2.77it/s]\n",
            "                 Class     Images  Instances      Box(P          R      mAP50  mAP50-95): 100%|██████████| 5/5 [00:02<00:00,  2.21it/s]\n"
          ]
        },
        {
          "output_type": "stream",
          "name": "stdout",
          "text": [
            "                   all        144        144       0.64      0.633      0.739      0.545\n",
            "\n",
            "      Epoch    GPU_mem   box_loss   cls_loss   dfl_loss  Instances       Size\n"
          ]
        },
        {
          "output_type": "stream",
          "name": "stderr",
          "text": [
            "       6/25      2.23G      0.818      2.204       1.26         23        640: 100%|██████████| 95/95 [00:38<00:00,  2.49it/s]\n",
            "                 Class     Images  Instances      Box(P          R      mAP50  mAP50-95): 100%|██████████| 5/5 [00:01<00:00,  3.06it/s]\n"
          ]
        },
        {
          "output_type": "stream",
          "name": "stdout",
          "text": [
            "                   all        144        144      0.613      0.713      0.776      0.594\n",
            "\n",
            "      Epoch    GPU_mem   box_loss   cls_loss   dfl_loss  Instances       Size\n"
          ]
        },
        {
          "output_type": "stream",
          "name": "stderr",
          "text": [
            "       7/25      2.23G     0.7995      2.055      1.243         22        640: 100%|██████████| 95/95 [00:34<00:00,  2.73it/s]\n",
            "                 Class     Images  Instances      Box(P          R      mAP50  mAP50-95): 100%|██████████| 5/5 [00:01<00:00,  2.71it/s]"
          ]
        },
        {
          "output_type": "stream",
          "name": "stdout",
          "text": [
            "                   all        144        144      0.785       0.64      0.847      0.674\n"
          ]
        },
        {
          "output_type": "stream",
          "name": "stderr",
          "text": [
            "\n"
          ]
        },
        {
          "output_type": "stream",
          "name": "stdout",
          "text": [
            "\n",
            "      Epoch    GPU_mem   box_loss   cls_loss   dfl_loss  Instances       Size\n"
          ]
        },
        {
          "output_type": "stream",
          "name": "stderr",
          "text": [
            "       8/25      2.23G     0.7771      1.919      1.218         19        640: 100%|██████████| 95/95 [00:35<00:00,  2.68it/s]\n",
            "                 Class     Images  Instances      Box(P          R      mAP50  mAP50-95): 100%|██████████| 5/5 [00:01<00:00,  3.20it/s]"
          ]
        },
        {
          "output_type": "stream",
          "name": "stdout",
          "text": [
            "                   all        144        144       0.75      0.777      0.865      0.709\n"
          ]
        },
        {
          "output_type": "stream",
          "name": "stderr",
          "text": [
            "\n"
          ]
        },
        {
          "output_type": "stream",
          "name": "stdout",
          "text": [
            "\n",
            "      Epoch    GPU_mem   box_loss   cls_loss   dfl_loss  Instances       Size\n"
          ]
        },
        {
          "output_type": "stream",
          "name": "stderr",
          "text": [
            "       9/25      2.23G     0.7683      1.829       1.21         17        640: 100%|██████████| 95/95 [00:36<00:00,  2.63it/s]\n",
            "                 Class     Images  Instances      Box(P          R      mAP50  mAP50-95): 100%|██████████| 5/5 [00:01<00:00,  2.89it/s]"
          ]
        },
        {
          "output_type": "stream",
          "name": "stdout",
          "text": [
            "                   all        144        144      0.726      0.774      0.861      0.701\n"
          ]
        },
        {
          "output_type": "stream",
          "name": "stderr",
          "text": [
            "\n"
          ]
        },
        {
          "output_type": "stream",
          "name": "stdout",
          "text": [
            "\n",
            "      Epoch    GPU_mem   box_loss   cls_loss   dfl_loss  Instances       Size\n"
          ]
        },
        {
          "output_type": "stream",
          "name": "stderr",
          "text": [
            "      10/25      2.23G     0.7696      1.716      1.206         16        640: 100%|██████████| 95/95 [00:34<00:00,  2.74it/s]\n",
            "                 Class     Images  Instances      Box(P          R      mAP50  mAP50-95): 100%|██████████| 5/5 [00:02<00:00,  2.22it/s]\n"
          ]
        },
        {
          "output_type": "stream",
          "name": "stdout",
          "text": [
            "                   all        144        144      0.805       0.78      0.908      0.732\n",
            "\n",
            "      Epoch    GPU_mem   box_loss   cls_loss   dfl_loss  Instances       Size\n"
          ]
        },
        {
          "output_type": "stream",
          "name": "stderr",
          "text": [
            "      11/25      2.23G     0.7257      1.576      1.176         22        640: 100%|██████████| 95/95 [00:34<00:00,  2.75it/s]\n",
            "                 Class     Images  Instances      Box(P          R      mAP50  mAP50-95): 100%|██████████| 5/5 [00:03<00:00,  1.45it/s]"
          ]
        },
        {
          "output_type": "stream",
          "name": "stdout",
          "text": [
            "                   all        144        144      0.811      0.867      0.927      0.751\n"
          ]
        },
        {
          "output_type": "stream",
          "name": "stderr",
          "text": [
            "\n"
          ]
        },
        {
          "output_type": "stream",
          "name": "stdout",
          "text": [
            "\n",
            "      Epoch    GPU_mem   box_loss   cls_loss   dfl_loss  Instances       Size\n"
          ]
        },
        {
          "output_type": "stream",
          "name": "stderr",
          "text": [
            "      12/25      2.23G     0.7248       1.53      1.173         11        640: 100%|██████████| 95/95 [00:34<00:00,  2.78it/s]\n",
            "                 Class     Images  Instances      Box(P          R      mAP50  mAP50-95): 100%|██████████| 5/5 [00:03<00:00,  1.43it/s]"
          ]
        },
        {
          "output_type": "stream",
          "name": "stdout",
          "text": [
            "                   all        144        144       0.76      0.839      0.898      0.732\n"
          ]
        },
        {
          "output_type": "stream",
          "name": "stderr",
          "text": [
            "\n"
          ]
        },
        {
          "output_type": "stream",
          "name": "stdout",
          "text": [
            "\n",
            "      Epoch    GPU_mem   box_loss   cls_loss   dfl_loss  Instances       Size\n"
          ]
        },
        {
          "output_type": "stream",
          "name": "stderr",
          "text": [
            "      13/25      2.23G     0.7144      1.478      1.162         17        640: 100%|██████████| 95/95 [00:37<00:00,  2.56it/s]\n",
            "                 Class     Images  Instances      Box(P          R      mAP50  mAP50-95): 100%|██████████| 5/5 [00:03<00:00,  1.61it/s]"
          ]
        },
        {
          "output_type": "stream",
          "name": "stdout",
          "text": [
            "                   all        144        144       0.85      0.849      0.921      0.726\n"
          ]
        },
        {
          "output_type": "stream",
          "name": "stderr",
          "text": [
            "\n"
          ]
        },
        {
          "output_type": "stream",
          "name": "stdout",
          "text": [
            "\n",
            "      Epoch    GPU_mem   box_loss   cls_loss   dfl_loss  Instances       Size\n"
          ]
        },
        {
          "output_type": "stream",
          "name": "stderr",
          "text": [
            "      14/25      2.23G     0.6918      1.407      1.155         17        640: 100%|██████████| 95/95 [00:34<00:00,  2.73it/s]\n",
            "                 Class     Images  Instances      Box(P          R      mAP50  mAP50-95): 100%|██████████| 5/5 [00:01<00:00,  2.97it/s]"
          ]
        },
        {
          "output_type": "stream",
          "name": "stdout",
          "text": [
            "                   all        144        144      0.836      0.823       0.92      0.745\n"
          ]
        },
        {
          "output_type": "stream",
          "name": "stderr",
          "text": [
            "\n"
          ]
        },
        {
          "output_type": "stream",
          "name": "stdout",
          "text": [
            "\n",
            "      Epoch    GPU_mem   box_loss   cls_loss   dfl_loss  Instances       Size\n"
          ]
        },
        {
          "output_type": "stream",
          "name": "stderr",
          "text": [
            "      15/25      2.24G     0.6878      1.359      1.155         15        640: 100%|██████████| 95/95 [00:35<00:00,  2.71it/s]\n",
            "                 Class     Images  Instances      Box(P          R      mAP50  mAP50-95): 100%|██████████| 5/5 [00:01<00:00,  2.96it/s]"
          ]
        },
        {
          "output_type": "stream",
          "name": "stdout",
          "text": [
            "                   all        144        144      0.755      0.899      0.907       0.75\n"
          ]
        },
        {
          "output_type": "stream",
          "name": "stderr",
          "text": [
            "\n"
          ]
        },
        {
          "output_type": "stream",
          "name": "stdout",
          "text": [
            "Closing dataloader mosaic\n",
            "\u001b[34m\u001b[1malbumentations: \u001b[0mBlur(p=0.01, blur_limit=(3, 7)), MedianBlur(p=0.01, blur_limit=(3, 7)), ToGray(p=0.01, num_output_channels=3, method='weighted_average'), CLAHE(p=0.01, clip_limit=(1.0, 4.0), tile_grid_size=(8, 8))\n",
            "\n",
            "      Epoch    GPU_mem   box_loss   cls_loss   dfl_loss  Instances       Size\n"
          ]
        },
        {
          "output_type": "stream",
          "name": "stderr",
          "text": [
            "      16/25      2.23G     0.5062      1.131      1.057          8        640: 100%|██████████| 95/95 [00:36<00:00,  2.59it/s]\n",
            "                 Class     Images  Instances      Box(P          R      mAP50  mAP50-95): 100%|██████████| 5/5 [00:01<00:00,  3.08it/s]\n"
          ]
        },
        {
          "output_type": "stream",
          "name": "stdout",
          "text": [
            "                   all        144        144      0.859      0.871      0.945      0.755\n",
            "\n",
            "      Epoch    GPU_mem   box_loss   cls_loss   dfl_loss  Instances       Size\n"
          ]
        },
        {
          "output_type": "stream",
          "name": "stderr",
          "text": [
            "      17/25      2.23G     0.4936      1.008      1.044          8        640: 100%|██████████| 95/95 [00:34<00:00,  2.77it/s]\n",
            "                 Class     Images  Instances      Box(P          R      mAP50  mAP50-95): 100%|██████████| 5/5 [00:01<00:00,  3.11it/s]"
          ]
        },
        {
          "output_type": "stream",
          "name": "stdout",
          "text": [
            "                   all        144        144      0.876      0.887      0.942      0.767\n"
          ]
        },
        {
          "output_type": "stream",
          "name": "stderr",
          "text": [
            "\n"
          ]
        },
        {
          "output_type": "stream",
          "name": "stdout",
          "text": [
            "\n",
            "      Epoch    GPU_mem   box_loss   cls_loss   dfl_loss  Instances       Size\n"
          ]
        },
        {
          "output_type": "stream",
          "name": "stderr",
          "text": [
            "      18/25      2.23G     0.4808      0.943      1.031          8        640: 100%|██████████| 95/95 [00:34<00:00,  2.77it/s]\n",
            "                 Class     Images  Instances      Box(P          R      mAP50  mAP50-95): 100%|██████████| 5/5 [00:01<00:00,  3.01it/s]"
          ]
        },
        {
          "output_type": "stream",
          "name": "stdout",
          "text": [
            "                   all        144        144      0.866      0.886      0.954      0.774\n"
          ]
        },
        {
          "output_type": "stream",
          "name": "stderr",
          "text": [
            "\n"
          ]
        },
        {
          "output_type": "stream",
          "name": "stdout",
          "text": [
            "\n",
            "      Epoch    GPU_mem   box_loss   cls_loss   dfl_loss  Instances       Size\n"
          ]
        },
        {
          "output_type": "stream",
          "name": "stderr",
          "text": [
            "      19/25      2.23G     0.4639     0.8901      1.018          8        640: 100%|██████████| 95/95 [00:34<00:00,  2.75it/s]\n",
            "                 Class     Images  Instances      Box(P          R      mAP50  mAP50-95): 100%|██████████| 5/5 [00:01<00:00,  3.10it/s]"
          ]
        },
        {
          "output_type": "stream",
          "name": "stdout",
          "text": [
            "                   all        144        144      0.917      0.888      0.951      0.776\n"
          ]
        },
        {
          "output_type": "stream",
          "name": "stderr",
          "text": [
            "\n"
          ]
        },
        {
          "output_type": "stream",
          "name": "stdout",
          "text": [
            "\n",
            "      Epoch    GPU_mem   box_loss   cls_loss   dfl_loss  Instances       Size\n"
          ]
        },
        {
          "output_type": "stream",
          "name": "stderr",
          "text": [
            "      20/25      2.23G     0.4585      0.854      1.016          8        640: 100%|██████████| 95/95 [00:37<00:00,  2.51it/s]\n",
            "                 Class     Images  Instances      Box(P          R      mAP50  mAP50-95): 100%|██████████| 5/5 [00:01<00:00,  3.22it/s]\n"
          ]
        },
        {
          "output_type": "stream",
          "name": "stdout",
          "text": [
            "                   all        144        144      0.913        0.9      0.956      0.799\n",
            "\n",
            "      Epoch    GPU_mem   box_loss   cls_loss   dfl_loss  Instances       Size\n"
          ]
        },
        {
          "output_type": "stream",
          "name": "stderr",
          "text": [
            "      21/25      2.23G     0.4473     0.8143      1.003          8        640: 100%|██████████| 95/95 [00:34<00:00,  2.73it/s]\n",
            "                 Class     Images  Instances      Box(P          R      mAP50  mAP50-95): 100%|██████████| 5/5 [00:01<00:00,  3.17it/s]\n"
          ]
        },
        {
          "output_type": "stream",
          "name": "stdout",
          "text": [
            "                   all        144        144      0.899      0.871      0.951      0.766\n",
            "\n",
            "      Epoch    GPU_mem   box_loss   cls_loss   dfl_loss  Instances       Size\n"
          ]
        },
        {
          "output_type": "stream",
          "name": "stderr",
          "text": [
            "      22/25      2.23G      0.435     0.8016     0.9946          8        640: 100%|██████████| 95/95 [00:34<00:00,  2.78it/s]\n",
            "                 Class     Images  Instances      Box(P          R      mAP50  mAP50-95): 100%|██████████| 5/5 [00:01<00:00,  2.93it/s]"
          ]
        },
        {
          "output_type": "stream",
          "name": "stdout",
          "text": [
            "                   all        144        144      0.894      0.899      0.956      0.798\n"
          ]
        },
        {
          "output_type": "stream",
          "name": "stderr",
          "text": [
            "\n"
          ]
        },
        {
          "output_type": "stream",
          "name": "stdout",
          "text": [
            "\n",
            "      Epoch    GPU_mem   box_loss   cls_loss   dfl_loss  Instances       Size\n"
          ]
        },
        {
          "output_type": "stream",
          "name": "stderr",
          "text": [
            "      23/25      2.23G     0.4278     0.7692     0.9854          8        640: 100%|██████████| 95/95 [00:33<00:00,  2.80it/s]\n",
            "                 Class     Images  Instances      Box(P          R      mAP50  mAP50-95): 100%|██████████| 5/5 [00:01<00:00,  3.33it/s]"
          ]
        },
        {
          "output_type": "stream",
          "name": "stdout",
          "text": [
            "                   all        144        144      0.921      0.889      0.957      0.779\n"
          ]
        },
        {
          "output_type": "stream",
          "name": "stderr",
          "text": [
            "\n"
          ]
        },
        {
          "output_type": "stream",
          "name": "stdout",
          "text": [
            "\n",
            "      Epoch    GPU_mem   box_loss   cls_loss   dfl_loss  Instances       Size\n"
          ]
        },
        {
          "output_type": "stream",
          "name": "stderr",
          "text": [
            "      24/25      2.23G     0.4255     0.7528     0.9906          8        640: 100%|██████████| 95/95 [00:34<00:00,  2.78it/s]\n",
            "                 Class     Images  Instances      Box(P          R      mAP50  mAP50-95): 100%|██████████| 5/5 [00:01<00:00,  3.59it/s]"
          ]
        },
        {
          "output_type": "stream",
          "name": "stdout",
          "text": [
            "                   all        144        144      0.931      0.897       0.96      0.795\n"
          ]
        },
        {
          "output_type": "stream",
          "name": "stderr",
          "text": [
            "\n"
          ]
        },
        {
          "output_type": "stream",
          "name": "stdout",
          "text": [
            "\n",
            "      Epoch    GPU_mem   box_loss   cls_loss   dfl_loss  Instances       Size\n"
          ]
        },
        {
          "output_type": "stream",
          "name": "stderr",
          "text": [
            "      25/25      2.23G     0.4155      0.736     0.9778          8        640: 100%|██████████| 95/95 [00:33<00:00,  2.80it/s]\n",
            "                 Class     Images  Instances      Box(P          R      mAP50  mAP50-95): 100%|██████████| 5/5 [00:02<00:00,  2.07it/s]"
          ]
        },
        {
          "output_type": "stream",
          "name": "stdout",
          "text": [
            "                   all        144        144      0.921      0.901      0.961      0.795\n"
          ]
        },
        {
          "output_type": "stream",
          "name": "stderr",
          "text": [
            "\n"
          ]
        },
        {
          "output_type": "stream",
          "name": "stdout",
          "text": [
            "\n",
            "25 epochs completed in 0.268 hours.\n",
            "Optimizer stripped from runs/detect/sign_language_model/weights/last.pt, 6.3MB\n",
            "Optimizer stripped from runs/detect/sign_language_model/weights/best.pt, 6.3MB\n",
            "\n",
            "Validating runs/detect/sign_language_model/weights/best.pt...\n",
            "Ultralytics 8.3.68 🚀 Python-3.11.11 torch-2.5.1+cu121 CUDA:0 (Tesla T4, 15102MiB)\n",
            "Model summary (fused): 168 layers, 3,010,718 parameters, 0 gradients, 8.1 GFLOPs\n"
          ]
        },
        {
          "output_type": "stream",
          "name": "stderr",
          "text": [
            "                 Class     Images  Instances      Box(P          R      mAP50  mAP50-95): 100%|██████████| 5/5 [00:03<00:00,  1.62it/s]\n"
          ]
        },
        {
          "output_type": "stream",
          "name": "stdout",
          "text": [
            "                   all        144        144      0.913      0.901      0.956      0.799\n",
            "                     A          5          5      0.991        0.8      0.906      0.761\n",
            "                     B          9          9      0.978          1      0.995      0.834\n",
            "                     C          3          3          1       0.84      0.995      0.852\n",
            "                     D          6          6      0.797          1      0.972      0.825\n",
            "                     E          4          4      0.871          1      0.995      0.833\n",
            "                     F          8          8      0.894          1      0.995      0.858\n",
            "                     G          5          5      0.934          1      0.995      0.864\n",
            "                     H          9          9       0.99          1      0.995      0.786\n",
            "                     I          2          2      0.799        0.5      0.524      0.469\n",
            "                     J          8          8      0.999          1      0.995      0.651\n",
            "                     K          6          6          1      0.765      0.995      0.847\n",
            "                     L          4          4      0.861       0.75      0.945      0.831\n",
            "                     M          8          8          1      0.769      0.995      0.841\n",
            "                     N          4          4      0.696          1      0.945      0.791\n",
            "                     O          7          7          1      0.968      0.995      0.792\n",
            "                     P          7          7          1      0.849      0.964      0.712\n",
            "                     Q          4          4      0.867       0.75      0.945      0.758\n",
            "                     R          7          7      0.861          1       0.96      0.795\n",
            "                     S          4          4      0.909          1      0.995      0.838\n",
            "                     T          6          6          1      0.814      0.942      0.853\n",
            "                     U          7          7      0.993          1      0.995      0.856\n",
            "                     V          5          5      0.819        0.8      0.826      0.701\n",
            "                     W          3          3      0.888          1      0.995      0.852\n",
            "                     X          1          1      0.655          1      0.995      0.895\n",
            "                     Y          8          8          1      0.825      0.995      0.763\n",
            "                     Z          4          4      0.941          1      0.995      0.921\n",
            "Speed: 0.3ms preprocess, 2.9ms inference, 0.0ms loss, 4.9ms postprocess per image\n",
            "Results saved to \u001b[1mruns/detect/sign_language_model\u001b[0m\n"
          ]
        },
        {
          "output_type": "execute_result",
          "data": {
            "text/plain": [
              "ultralytics.utils.metrics.DetMetrics object with attributes:\n",
              "\n",
              "ap_class_index: array([ 0,  1,  2,  3,  4,  5,  6,  7,  8,  9, 10, 11, 12, 13, 14, 15, 16, 17, 18, 19, 20, 21, 22, 23, 24, 25])\n",
              "box: ultralytics.utils.metrics.Metric object\n",
              "confusion_matrix: <ultralytics.utils.metrics.ConfusionMatrix object at 0x7abe9cbf2a90>\n",
              "curves: ['Precision-Recall(B)', 'F1-Confidence(B)', 'Precision-Confidence(B)', 'Recall-Confidence(B)']\n",
              "curves_results: [[array([          0,    0.001001,    0.002002,    0.003003,    0.004004,    0.005005,    0.006006,    0.007007,    0.008008,    0.009009,     0.01001,    0.011011,    0.012012,    0.013013,    0.014014,    0.015015,    0.016016,    0.017017,    0.018018,    0.019019,     0.02002,    0.021021,    0.022022,    0.023023,\n",
              "          0.024024,    0.025025,    0.026026,    0.027027,    0.028028,    0.029029,     0.03003,    0.031031,    0.032032,    0.033033,    0.034034,    0.035035,    0.036036,    0.037037,    0.038038,    0.039039,     0.04004,    0.041041,    0.042042,    0.043043,    0.044044,    0.045045,    0.046046,    0.047047,\n",
              "          0.048048,    0.049049,     0.05005,    0.051051,    0.052052,    0.053053,    0.054054,    0.055055,    0.056056,    0.057057,    0.058058,    0.059059,     0.06006,    0.061061,    0.062062,    0.063063,    0.064064,    0.065065,    0.066066,    0.067067,    0.068068,    0.069069,     0.07007,    0.071071,\n",
              "          0.072072,    0.073073,    0.074074,    0.075075,    0.076076,    0.077077,    0.078078,    0.079079,     0.08008,    0.081081,    0.082082,    0.083083,    0.084084,    0.085085,    0.086086,    0.087087,    0.088088,    0.089089,     0.09009,    0.091091,    0.092092,    0.093093,    0.094094,    0.095095,\n",
              "          0.096096,    0.097097,    0.098098,    0.099099,      0.1001,      0.1011,      0.1021,      0.1031,      0.1041,     0.10511,     0.10611,     0.10711,     0.10811,     0.10911,     0.11011,     0.11111,     0.11211,     0.11311,     0.11411,     0.11512,     0.11612,     0.11712,     0.11812,     0.11912,\n",
              "           0.12012,     0.12112,     0.12212,     0.12312,     0.12412,     0.12513,     0.12613,     0.12713,     0.12813,     0.12913,     0.13013,     0.13113,     0.13213,     0.13313,     0.13413,     0.13514,     0.13614,     0.13714,     0.13814,     0.13914,     0.14014,     0.14114,     0.14214,     0.14314,\n",
              "           0.14414,     0.14515,     0.14615,     0.14715,     0.14815,     0.14915,     0.15015,     0.15115,     0.15215,     0.15315,     0.15415,     0.15516,     0.15616,     0.15716,     0.15816,     0.15916,     0.16016,     0.16116,     0.16216,     0.16316,     0.16416,     0.16517,     0.16617,     0.16717,\n",
              "           0.16817,     0.16917,     0.17017,     0.17117,     0.17217,     0.17317,     0.17417,     0.17518,     0.17618,     0.17718,     0.17818,     0.17918,     0.18018,     0.18118,     0.18218,     0.18318,     0.18418,     0.18519,     0.18619,     0.18719,     0.18819,     0.18919,     0.19019,     0.19119,\n",
              "           0.19219,     0.19319,     0.19419,      0.1952,      0.1962,      0.1972,      0.1982,      0.1992,      0.2002,      0.2012,      0.2022,      0.2032,      0.2042,     0.20521,     0.20621,     0.20721,     0.20821,     0.20921,     0.21021,     0.21121,     0.21221,     0.21321,     0.21421,     0.21522,\n",
              "           0.21622,     0.21722,     0.21822,     0.21922,     0.22022,     0.22122,     0.22222,     0.22322,     0.22422,     0.22523,     0.22623,     0.22723,     0.22823,     0.22923,     0.23023,     0.23123,     0.23223,     0.23323,     0.23423,     0.23524,     0.23624,     0.23724,     0.23824,     0.23924,\n",
              "           0.24024,     0.24124,     0.24224,     0.24324,     0.24424,     0.24525,     0.24625,     0.24725,     0.24825,     0.24925,     0.25025,     0.25125,     0.25225,     0.25325,     0.25425,     0.25526,     0.25626,     0.25726,     0.25826,     0.25926,     0.26026,     0.26126,     0.26226,     0.26326,\n",
              "           0.26426,     0.26527,     0.26627,     0.26727,     0.26827,     0.26927,     0.27027,     0.27127,     0.27227,     0.27327,     0.27427,     0.27528,     0.27628,     0.27728,     0.27828,     0.27928,     0.28028,     0.28128,     0.28228,     0.28328,     0.28428,     0.28529,     0.28629,     0.28729,\n",
              "           0.28829,     0.28929,     0.29029,     0.29129,     0.29229,     0.29329,     0.29429,      0.2953,      0.2963,      0.2973,      0.2983,      0.2993,      0.3003,      0.3013,      0.3023,      0.3033,      0.3043,     0.30531,     0.30631,     0.30731,     0.30831,     0.30931,     0.31031,     0.31131,\n",
              "           0.31231,     0.31331,     0.31431,     0.31532,     0.31632,     0.31732,     0.31832,     0.31932,     0.32032,     0.32132,     0.32232,     0.32332,     0.32432,     0.32533,     0.32633,     0.32733,     0.32833,     0.32933,     0.33033,     0.33133,     0.33233,     0.33333,     0.33433,     0.33534,\n",
              "           0.33634,     0.33734,     0.33834,     0.33934,     0.34034,     0.34134,     0.34234,     0.34334,     0.34434,     0.34535,     0.34635,     0.34735,     0.34835,     0.34935,     0.35035,     0.35135,     0.35235,     0.35335,     0.35435,     0.35536,     0.35636,     0.35736,     0.35836,     0.35936,\n",
              "           0.36036,     0.36136,     0.36236,     0.36336,     0.36436,     0.36537,     0.36637,     0.36737,     0.36837,     0.36937,     0.37037,     0.37137,     0.37237,     0.37337,     0.37437,     0.37538,     0.37638,     0.37738,     0.37838,     0.37938,     0.38038,     0.38138,     0.38238,     0.38338,\n",
              "           0.38438,     0.38539,     0.38639,     0.38739,     0.38839,     0.38939,     0.39039,     0.39139,     0.39239,     0.39339,     0.39439,      0.3954,      0.3964,      0.3974,      0.3984,      0.3994,      0.4004,      0.4014,      0.4024,      0.4034,      0.4044,     0.40541,     0.40641,     0.40741,\n",
              "           0.40841,     0.40941,     0.41041,     0.41141,     0.41241,     0.41341,     0.41441,     0.41542,     0.41642,     0.41742,     0.41842,     0.41942,     0.42042,     0.42142,     0.42242,     0.42342,     0.42442,     0.42543,     0.42643,     0.42743,     0.42843,     0.42943,     0.43043,     0.43143,\n",
              "           0.43243,     0.43343,     0.43443,     0.43544,     0.43644,     0.43744,     0.43844,     0.43944,     0.44044,     0.44144,     0.44244,     0.44344,     0.44444,     0.44545,     0.44645,     0.44745,     0.44845,     0.44945,     0.45045,     0.45145,     0.45245,     0.45345,     0.45445,     0.45546,\n",
              "           0.45646,     0.45746,     0.45846,     0.45946,     0.46046,     0.46146,     0.46246,     0.46346,     0.46446,     0.46547,     0.46647,     0.46747,     0.46847,     0.46947,     0.47047,     0.47147,     0.47247,     0.47347,     0.47447,     0.47548,     0.47648,     0.47748,     0.47848,     0.47948,\n",
              "           0.48048,     0.48148,     0.48248,     0.48348,     0.48448,     0.48549,     0.48649,     0.48749,     0.48849,     0.48949,     0.49049,     0.49149,     0.49249,     0.49349,     0.49449,      0.4955,      0.4965,      0.4975,      0.4985,      0.4995,      0.5005,      0.5015,      0.5025,      0.5035,\n",
              "            0.5045,     0.50551,     0.50651,     0.50751,     0.50851,     0.50951,     0.51051,     0.51151,     0.51251,     0.51351,     0.51451,     0.51552,     0.51652,     0.51752,     0.51852,     0.51952,     0.52052,     0.52152,     0.52252,     0.52352,     0.52452,     0.52553,     0.52653,     0.52753,\n",
              "           0.52853,     0.52953,     0.53053,     0.53153,     0.53253,     0.53353,     0.53453,     0.53554,     0.53654,     0.53754,     0.53854,     0.53954,     0.54054,     0.54154,     0.54254,     0.54354,     0.54454,     0.54555,     0.54655,     0.54755,     0.54855,     0.54955,     0.55055,     0.55155,\n",
              "           0.55255,     0.55355,     0.55455,     0.55556,     0.55656,     0.55756,     0.55856,     0.55956,     0.56056,     0.56156,     0.56256,     0.56356,     0.56456,     0.56557,     0.56657,     0.56757,     0.56857,     0.56957,     0.57057,     0.57157,     0.57257,     0.57357,     0.57457,     0.57558,\n",
              "           0.57658,     0.57758,     0.57858,     0.57958,     0.58058,     0.58158,     0.58258,     0.58358,     0.58458,     0.58559,     0.58659,     0.58759,     0.58859,     0.58959,     0.59059,     0.59159,     0.59259,     0.59359,     0.59459,      0.5956,      0.5966,      0.5976,      0.5986,      0.5996,\n",
              "            0.6006,      0.6016,      0.6026,      0.6036,      0.6046,     0.60561,     0.60661,     0.60761,     0.60861,     0.60961,     0.61061,     0.61161,     0.61261,     0.61361,     0.61461,     0.61562,     0.61662,     0.61762,     0.61862,     0.61962,     0.62062,     0.62162,     0.62262,     0.62362,\n",
              "           0.62462,     0.62563,     0.62663,     0.62763,     0.62863,     0.62963,     0.63063,     0.63163,     0.63263,     0.63363,     0.63463,     0.63564,     0.63664,     0.63764,     0.63864,     0.63964,     0.64064,     0.64164,     0.64264,     0.64364,     0.64464,     0.64565,     0.64665,     0.64765,\n",
              "           0.64865,     0.64965,     0.65065,     0.65165,     0.65265,     0.65365,     0.65465,     0.65566,     0.65666,     0.65766,     0.65866,     0.65966,     0.66066,     0.66166,     0.66266,     0.66366,     0.66466,     0.66567,     0.66667,     0.66767,     0.66867,     0.66967,     0.67067,     0.67167,\n",
              "           0.67267,     0.67367,     0.67467,     0.67568,     0.67668,     0.67768,     0.67868,     0.67968,     0.68068,     0.68168,     0.68268,     0.68368,     0.68468,     0.68569,     0.68669,     0.68769,     0.68869,     0.68969,     0.69069,     0.69169,     0.69269,     0.69369,     0.69469,      0.6957,\n",
              "            0.6967,      0.6977,      0.6987,      0.6997,      0.7007,      0.7017,      0.7027,      0.7037,      0.7047,     0.70571,     0.70671,     0.70771,     0.70871,     0.70971,     0.71071,     0.71171,     0.71271,     0.71371,     0.71471,     0.71572,     0.71672,     0.71772,     0.71872,     0.71972,\n",
              "           0.72072,     0.72172,     0.72272,     0.72372,     0.72472,     0.72573,     0.72673,     0.72773,     0.72873,     0.72973,     0.73073,     0.73173,     0.73273,     0.73373,     0.73473,     0.73574,     0.73674,     0.73774,     0.73874,     0.73974,     0.74074,     0.74174,     0.74274,     0.74374,\n",
              "           0.74474,     0.74575,     0.74675,     0.74775,     0.74875,     0.74975,     0.75075,     0.75175,     0.75275,     0.75375,     0.75475,     0.75576,     0.75676,     0.75776,     0.75876,     0.75976,     0.76076,     0.76176,     0.76276,     0.76376,     0.76476,     0.76577,     0.76677,     0.76777,\n",
              "           0.76877,     0.76977,     0.77077,     0.77177,     0.77277,     0.77377,     0.77477,     0.77578,     0.77678,     0.77778,     0.77878,     0.77978,     0.78078,     0.78178,     0.78278,     0.78378,     0.78478,     0.78579,     0.78679,     0.78779,     0.78879,     0.78979,     0.79079,     0.79179,\n",
              "           0.79279,     0.79379,     0.79479,      0.7958,      0.7968,      0.7978,      0.7988,      0.7998,      0.8008,      0.8018,      0.8028,      0.8038,      0.8048,     0.80581,     0.80681,     0.80781,     0.80881,     0.80981,     0.81081,     0.81181,     0.81281,     0.81381,     0.81481,     0.81582,\n",
              "           0.81682,     0.81782,     0.81882,     0.81982,     0.82082,     0.82182,     0.82282,     0.82382,     0.82482,     0.82583,     0.82683,     0.82783,     0.82883,     0.82983,     0.83083,     0.83183,     0.83283,     0.83383,     0.83483,     0.83584,     0.83684,     0.83784,     0.83884,     0.83984,\n",
              "           0.84084,     0.84184,     0.84284,     0.84384,     0.84484,     0.84585,     0.84685,     0.84785,     0.84885,     0.84985,     0.85085,     0.85185,     0.85285,     0.85385,     0.85485,     0.85586,     0.85686,     0.85786,     0.85886,     0.85986,     0.86086,     0.86186,     0.86286,     0.86386,\n",
              "           0.86486,     0.86587,     0.86687,     0.86787,     0.86887,     0.86987,     0.87087,     0.87187,     0.87287,     0.87387,     0.87487,     0.87588,     0.87688,     0.87788,     0.87888,     0.87988,     0.88088,     0.88188,     0.88288,     0.88388,     0.88488,     0.88589,     0.88689,     0.88789,\n",
              "           0.88889,     0.88989,     0.89089,     0.89189,     0.89289,     0.89389,     0.89489,      0.8959,      0.8969,      0.8979,      0.8989,      0.8999,      0.9009,      0.9019,      0.9029,      0.9039,      0.9049,     0.90591,     0.90691,     0.90791,     0.90891,     0.90991,     0.91091,     0.91191,\n",
              "           0.91291,     0.91391,     0.91491,     0.91592,     0.91692,     0.91792,     0.91892,     0.91992,     0.92092,     0.92192,     0.92292,     0.92392,     0.92492,     0.92593,     0.92693,     0.92793,     0.92893,     0.92993,     0.93093,     0.93193,     0.93293,     0.93393,     0.93493,     0.93594,\n",
              "           0.93694,     0.93794,     0.93894,     0.93994,     0.94094,     0.94194,     0.94294,     0.94394,     0.94494,     0.94595,     0.94695,     0.94795,     0.94895,     0.94995,     0.95095,     0.95195,     0.95295,     0.95395,     0.95495,     0.95596,     0.95696,     0.95796,     0.95896,     0.95996,\n",
              "           0.96096,     0.96196,     0.96296,     0.96396,     0.96496,     0.96597,     0.96697,     0.96797,     0.96897,     0.96997,     0.97097,     0.97197,     0.97297,     0.97397,     0.97497,     0.97598,     0.97698,     0.97798,     0.97898,     0.97998,     0.98098,     0.98198,     0.98298,     0.98398,\n",
              "           0.98498,     0.98599,     0.98699,     0.98799,     0.98899,     0.98999,     0.99099,     0.99199,     0.99299,     0.99399,     0.99499,       0.996,       0.997,       0.998,       0.999,           1]), array([[          1,           1,           1, ...,     0.55556,     0.55556,           0],\n",
              "       [          1,           1,           1, ...,           1,           1,           0],\n",
              "       [          1,           1,           1, ...,           1,           1,           0],\n",
              "       ...,\n",
              "       [          1,           1,           1, ...,           1,           1,           0],\n",
              "       [          1,           1,           1, ...,           1,           1,           0],\n",
              "       [          1,           1,           1, ...,           1,           1,           0]]), 'Recall', 'Precision'], [array([          0,    0.001001,    0.002002,    0.003003,    0.004004,    0.005005,    0.006006,    0.007007,    0.008008,    0.009009,     0.01001,    0.011011,    0.012012,    0.013013,    0.014014,    0.015015,    0.016016,    0.017017,    0.018018,    0.019019,     0.02002,    0.021021,    0.022022,    0.023023,\n",
              "          0.024024,    0.025025,    0.026026,    0.027027,    0.028028,    0.029029,     0.03003,    0.031031,    0.032032,    0.033033,    0.034034,    0.035035,    0.036036,    0.037037,    0.038038,    0.039039,     0.04004,    0.041041,    0.042042,    0.043043,    0.044044,    0.045045,    0.046046,    0.047047,\n",
              "          0.048048,    0.049049,     0.05005,    0.051051,    0.052052,    0.053053,    0.054054,    0.055055,    0.056056,    0.057057,    0.058058,    0.059059,     0.06006,    0.061061,    0.062062,    0.063063,    0.064064,    0.065065,    0.066066,    0.067067,    0.068068,    0.069069,     0.07007,    0.071071,\n",
              "          0.072072,    0.073073,    0.074074,    0.075075,    0.076076,    0.077077,    0.078078,    0.079079,     0.08008,    0.081081,    0.082082,    0.083083,    0.084084,    0.085085,    0.086086,    0.087087,    0.088088,    0.089089,     0.09009,    0.091091,    0.092092,    0.093093,    0.094094,    0.095095,\n",
              "          0.096096,    0.097097,    0.098098,    0.099099,      0.1001,      0.1011,      0.1021,      0.1031,      0.1041,     0.10511,     0.10611,     0.10711,     0.10811,     0.10911,     0.11011,     0.11111,     0.11211,     0.11311,     0.11411,     0.11512,     0.11612,     0.11712,     0.11812,     0.11912,\n",
              "           0.12012,     0.12112,     0.12212,     0.12312,     0.12412,     0.12513,     0.12613,     0.12713,     0.12813,     0.12913,     0.13013,     0.13113,     0.13213,     0.13313,     0.13413,     0.13514,     0.13614,     0.13714,     0.13814,     0.13914,     0.14014,     0.14114,     0.14214,     0.14314,\n",
              "           0.14414,     0.14515,     0.14615,     0.14715,     0.14815,     0.14915,     0.15015,     0.15115,     0.15215,     0.15315,     0.15415,     0.15516,     0.15616,     0.15716,     0.15816,     0.15916,     0.16016,     0.16116,     0.16216,     0.16316,     0.16416,     0.16517,     0.16617,     0.16717,\n",
              "           0.16817,     0.16917,     0.17017,     0.17117,     0.17217,     0.17317,     0.17417,     0.17518,     0.17618,     0.17718,     0.17818,     0.17918,     0.18018,     0.18118,     0.18218,     0.18318,     0.18418,     0.18519,     0.18619,     0.18719,     0.18819,     0.18919,     0.19019,     0.19119,\n",
              "           0.19219,     0.19319,     0.19419,      0.1952,      0.1962,      0.1972,      0.1982,      0.1992,      0.2002,      0.2012,      0.2022,      0.2032,      0.2042,     0.20521,     0.20621,     0.20721,     0.20821,     0.20921,     0.21021,     0.21121,     0.21221,     0.21321,     0.21421,     0.21522,\n",
              "           0.21622,     0.21722,     0.21822,     0.21922,     0.22022,     0.22122,     0.22222,     0.22322,     0.22422,     0.22523,     0.22623,     0.22723,     0.22823,     0.22923,     0.23023,     0.23123,     0.23223,     0.23323,     0.23423,     0.23524,     0.23624,     0.23724,     0.23824,     0.23924,\n",
              "           0.24024,     0.24124,     0.24224,     0.24324,     0.24424,     0.24525,     0.24625,     0.24725,     0.24825,     0.24925,     0.25025,     0.25125,     0.25225,     0.25325,     0.25425,     0.25526,     0.25626,     0.25726,     0.25826,     0.25926,     0.26026,     0.26126,     0.26226,     0.26326,\n",
              "           0.26426,     0.26527,     0.26627,     0.26727,     0.26827,     0.26927,     0.27027,     0.27127,     0.27227,     0.27327,     0.27427,     0.27528,     0.27628,     0.27728,     0.27828,     0.27928,     0.28028,     0.28128,     0.28228,     0.28328,     0.28428,     0.28529,     0.28629,     0.28729,\n",
              "           0.28829,     0.28929,     0.29029,     0.29129,     0.29229,     0.29329,     0.29429,      0.2953,      0.2963,      0.2973,      0.2983,      0.2993,      0.3003,      0.3013,      0.3023,      0.3033,      0.3043,     0.30531,     0.30631,     0.30731,     0.30831,     0.30931,     0.31031,     0.31131,\n",
              "           0.31231,     0.31331,     0.31431,     0.31532,     0.31632,     0.31732,     0.31832,     0.31932,     0.32032,     0.32132,     0.32232,     0.32332,     0.32432,     0.32533,     0.32633,     0.32733,     0.32833,     0.32933,     0.33033,     0.33133,     0.33233,     0.33333,     0.33433,     0.33534,\n",
              "           0.33634,     0.33734,     0.33834,     0.33934,     0.34034,     0.34134,     0.34234,     0.34334,     0.34434,     0.34535,     0.34635,     0.34735,     0.34835,     0.34935,     0.35035,     0.35135,     0.35235,     0.35335,     0.35435,     0.35536,     0.35636,     0.35736,     0.35836,     0.35936,\n",
              "           0.36036,     0.36136,     0.36236,     0.36336,     0.36436,     0.36537,     0.36637,     0.36737,     0.36837,     0.36937,     0.37037,     0.37137,     0.37237,     0.37337,     0.37437,     0.37538,     0.37638,     0.37738,     0.37838,     0.37938,     0.38038,     0.38138,     0.38238,     0.38338,\n",
              "           0.38438,     0.38539,     0.38639,     0.38739,     0.38839,     0.38939,     0.39039,     0.39139,     0.39239,     0.39339,     0.39439,      0.3954,      0.3964,      0.3974,      0.3984,      0.3994,      0.4004,      0.4014,      0.4024,      0.4034,      0.4044,     0.40541,     0.40641,     0.40741,\n",
              "           0.40841,     0.40941,     0.41041,     0.41141,     0.41241,     0.41341,     0.41441,     0.41542,     0.41642,     0.41742,     0.41842,     0.41942,     0.42042,     0.42142,     0.42242,     0.42342,     0.42442,     0.42543,     0.42643,     0.42743,     0.42843,     0.42943,     0.43043,     0.43143,\n",
              "           0.43243,     0.43343,     0.43443,     0.43544,     0.43644,     0.43744,     0.43844,     0.43944,     0.44044,     0.44144,     0.44244,     0.44344,     0.44444,     0.44545,     0.44645,     0.44745,     0.44845,     0.44945,     0.45045,     0.45145,     0.45245,     0.45345,     0.45445,     0.45546,\n",
              "           0.45646,     0.45746,     0.45846,     0.45946,     0.46046,     0.46146,     0.46246,     0.46346,     0.46446,     0.46547,     0.46647,     0.46747,     0.46847,     0.46947,     0.47047,     0.47147,     0.47247,     0.47347,     0.47447,     0.47548,     0.47648,     0.47748,     0.47848,     0.47948,\n",
              "           0.48048,     0.48148,     0.48248,     0.48348,     0.48448,     0.48549,     0.48649,     0.48749,     0.48849,     0.48949,     0.49049,     0.49149,     0.49249,     0.49349,     0.49449,      0.4955,      0.4965,      0.4975,      0.4985,      0.4995,      0.5005,      0.5015,      0.5025,      0.5035,\n",
              "            0.5045,     0.50551,     0.50651,     0.50751,     0.50851,     0.50951,     0.51051,     0.51151,     0.51251,     0.51351,     0.51451,     0.51552,     0.51652,     0.51752,     0.51852,     0.51952,     0.52052,     0.52152,     0.52252,     0.52352,     0.52452,     0.52553,     0.52653,     0.52753,\n",
              "           0.52853,     0.52953,     0.53053,     0.53153,     0.53253,     0.53353,     0.53453,     0.53554,     0.53654,     0.53754,     0.53854,     0.53954,     0.54054,     0.54154,     0.54254,     0.54354,     0.54454,     0.54555,     0.54655,     0.54755,     0.54855,     0.54955,     0.55055,     0.55155,\n",
              "           0.55255,     0.55355,     0.55455,     0.55556,     0.55656,     0.55756,     0.55856,     0.55956,     0.56056,     0.56156,     0.56256,     0.56356,     0.56456,     0.56557,     0.56657,     0.56757,     0.56857,     0.56957,     0.57057,     0.57157,     0.57257,     0.57357,     0.57457,     0.57558,\n",
              "           0.57658,     0.57758,     0.57858,     0.57958,     0.58058,     0.58158,     0.58258,     0.58358,     0.58458,     0.58559,     0.58659,     0.58759,     0.58859,     0.58959,     0.59059,     0.59159,     0.59259,     0.59359,     0.59459,      0.5956,      0.5966,      0.5976,      0.5986,      0.5996,\n",
              "            0.6006,      0.6016,      0.6026,      0.6036,      0.6046,     0.60561,     0.60661,     0.60761,     0.60861,     0.60961,     0.61061,     0.61161,     0.61261,     0.61361,     0.61461,     0.61562,     0.61662,     0.61762,     0.61862,     0.61962,     0.62062,     0.62162,     0.62262,     0.62362,\n",
              "           0.62462,     0.62563,     0.62663,     0.62763,     0.62863,     0.62963,     0.63063,     0.63163,     0.63263,     0.63363,     0.63463,     0.63564,     0.63664,     0.63764,     0.63864,     0.63964,     0.64064,     0.64164,     0.64264,     0.64364,     0.64464,     0.64565,     0.64665,     0.64765,\n",
              "           0.64865,     0.64965,     0.65065,     0.65165,     0.65265,     0.65365,     0.65465,     0.65566,     0.65666,     0.65766,     0.65866,     0.65966,     0.66066,     0.66166,     0.66266,     0.66366,     0.66466,     0.66567,     0.66667,     0.66767,     0.66867,     0.66967,     0.67067,     0.67167,\n",
              "           0.67267,     0.67367,     0.67467,     0.67568,     0.67668,     0.67768,     0.67868,     0.67968,     0.68068,     0.68168,     0.68268,     0.68368,     0.68468,     0.68569,     0.68669,     0.68769,     0.68869,     0.68969,     0.69069,     0.69169,     0.69269,     0.69369,     0.69469,      0.6957,\n",
              "            0.6967,      0.6977,      0.6987,      0.6997,      0.7007,      0.7017,      0.7027,      0.7037,      0.7047,     0.70571,     0.70671,     0.70771,     0.70871,     0.70971,     0.71071,     0.71171,     0.71271,     0.71371,     0.71471,     0.71572,     0.71672,     0.71772,     0.71872,     0.71972,\n",
              "           0.72072,     0.72172,     0.72272,     0.72372,     0.72472,     0.72573,     0.72673,     0.72773,     0.72873,     0.72973,     0.73073,     0.73173,     0.73273,     0.73373,     0.73473,     0.73574,     0.73674,     0.73774,     0.73874,     0.73974,     0.74074,     0.74174,     0.74274,     0.74374,\n",
              "           0.74474,     0.74575,     0.74675,     0.74775,     0.74875,     0.74975,     0.75075,     0.75175,     0.75275,     0.75375,     0.75475,     0.75576,     0.75676,     0.75776,     0.75876,     0.75976,     0.76076,     0.76176,     0.76276,     0.76376,     0.76476,     0.76577,     0.76677,     0.76777,\n",
              "           0.76877,     0.76977,     0.77077,     0.77177,     0.77277,     0.77377,     0.77477,     0.77578,     0.77678,     0.77778,     0.77878,     0.77978,     0.78078,     0.78178,     0.78278,     0.78378,     0.78478,     0.78579,     0.78679,     0.78779,     0.78879,     0.78979,     0.79079,     0.79179,\n",
              "           0.79279,     0.79379,     0.79479,      0.7958,      0.7968,      0.7978,      0.7988,      0.7998,      0.8008,      0.8018,      0.8028,      0.8038,      0.8048,     0.80581,     0.80681,     0.80781,     0.80881,     0.80981,     0.81081,     0.81181,     0.81281,     0.81381,     0.81481,     0.81582,\n",
              "           0.81682,     0.81782,     0.81882,     0.81982,     0.82082,     0.82182,     0.82282,     0.82382,     0.82482,     0.82583,     0.82683,     0.82783,     0.82883,     0.82983,     0.83083,     0.83183,     0.83283,     0.83383,     0.83483,     0.83584,     0.83684,     0.83784,     0.83884,     0.83984,\n",
              "           0.84084,     0.84184,     0.84284,     0.84384,     0.84484,     0.84585,     0.84685,     0.84785,     0.84885,     0.84985,     0.85085,     0.85185,     0.85285,     0.85385,     0.85485,     0.85586,     0.85686,     0.85786,     0.85886,     0.85986,     0.86086,     0.86186,     0.86286,     0.86386,\n",
              "           0.86486,     0.86587,     0.86687,     0.86787,     0.86887,     0.86987,     0.87087,     0.87187,     0.87287,     0.87387,     0.87487,     0.87588,     0.87688,     0.87788,     0.87888,     0.87988,     0.88088,     0.88188,     0.88288,     0.88388,     0.88488,     0.88589,     0.88689,     0.88789,\n",
              "           0.88889,     0.88989,     0.89089,     0.89189,     0.89289,     0.89389,     0.89489,      0.8959,      0.8969,      0.8979,      0.8989,      0.8999,      0.9009,      0.9019,      0.9029,      0.9039,      0.9049,     0.90591,     0.90691,     0.90791,     0.90891,     0.90991,     0.91091,     0.91191,\n",
              "           0.91291,     0.91391,     0.91491,     0.91592,     0.91692,     0.91792,     0.91892,     0.91992,     0.92092,     0.92192,     0.92292,     0.92392,     0.92492,     0.92593,     0.92693,     0.92793,     0.92893,     0.92993,     0.93093,     0.93193,     0.93293,     0.93393,     0.93493,     0.93594,\n",
              "           0.93694,     0.93794,     0.93894,     0.93994,     0.94094,     0.94194,     0.94294,     0.94394,     0.94494,     0.94595,     0.94695,     0.94795,     0.94895,     0.94995,     0.95095,     0.95195,     0.95295,     0.95395,     0.95495,     0.95596,     0.95696,     0.95796,     0.95896,     0.95996,\n",
              "           0.96096,     0.96196,     0.96296,     0.96396,     0.96496,     0.96597,     0.96697,     0.96797,     0.96897,     0.96997,     0.97097,     0.97197,     0.97297,     0.97397,     0.97497,     0.97598,     0.97698,     0.97798,     0.97898,     0.97998,     0.98098,     0.98198,     0.98298,     0.98398,\n",
              "           0.98498,     0.98599,     0.98699,     0.98799,     0.98899,     0.98999,     0.99099,     0.99199,     0.99299,     0.99399,     0.99499,       0.996,       0.997,       0.998,       0.999,           1]), array([[   0.031949,    0.031949,     0.15374, ...,           0,           0,           0],\n",
              "       [    0.28125,     0.28125,      0.4107, ...,           0,           0,           0],\n",
              "       [   0.029851,    0.029851,    0.076893, ...,           0,           0,           0],\n",
              "       ...,\n",
              "       [   0.020833,    0.020833,    0.038255, ...,           0,           0,           0],\n",
              "       [   0.094675,    0.094675,     0.32297, ...,           0,           0,           0],\n",
              "       [    0.17778,     0.17778,      0.2908, ...,           0,           0,           0]]), 'Confidence', 'F1'], [array([          0,    0.001001,    0.002002,    0.003003,    0.004004,    0.005005,    0.006006,    0.007007,    0.008008,    0.009009,     0.01001,    0.011011,    0.012012,    0.013013,    0.014014,    0.015015,    0.016016,    0.017017,    0.018018,    0.019019,     0.02002,    0.021021,    0.022022,    0.023023,\n",
              "          0.024024,    0.025025,    0.026026,    0.027027,    0.028028,    0.029029,     0.03003,    0.031031,    0.032032,    0.033033,    0.034034,    0.035035,    0.036036,    0.037037,    0.038038,    0.039039,     0.04004,    0.041041,    0.042042,    0.043043,    0.044044,    0.045045,    0.046046,    0.047047,\n",
              "          0.048048,    0.049049,     0.05005,    0.051051,    0.052052,    0.053053,    0.054054,    0.055055,    0.056056,    0.057057,    0.058058,    0.059059,     0.06006,    0.061061,    0.062062,    0.063063,    0.064064,    0.065065,    0.066066,    0.067067,    0.068068,    0.069069,     0.07007,    0.071071,\n",
              "          0.072072,    0.073073,    0.074074,    0.075075,    0.076076,    0.077077,    0.078078,    0.079079,     0.08008,    0.081081,    0.082082,    0.083083,    0.084084,    0.085085,    0.086086,    0.087087,    0.088088,    0.089089,     0.09009,    0.091091,    0.092092,    0.093093,    0.094094,    0.095095,\n",
              "          0.096096,    0.097097,    0.098098,    0.099099,      0.1001,      0.1011,      0.1021,      0.1031,      0.1041,     0.10511,     0.10611,     0.10711,     0.10811,     0.10911,     0.11011,     0.11111,     0.11211,     0.11311,     0.11411,     0.11512,     0.11612,     0.11712,     0.11812,     0.11912,\n",
              "           0.12012,     0.12112,     0.12212,     0.12312,     0.12412,     0.12513,     0.12613,     0.12713,     0.12813,     0.12913,     0.13013,     0.13113,     0.13213,     0.13313,     0.13413,     0.13514,     0.13614,     0.13714,     0.13814,     0.13914,     0.14014,     0.14114,     0.14214,     0.14314,\n",
              "           0.14414,     0.14515,     0.14615,     0.14715,     0.14815,     0.14915,     0.15015,     0.15115,     0.15215,     0.15315,     0.15415,     0.15516,     0.15616,     0.15716,     0.15816,     0.15916,     0.16016,     0.16116,     0.16216,     0.16316,     0.16416,     0.16517,     0.16617,     0.16717,\n",
              "           0.16817,     0.16917,     0.17017,     0.17117,     0.17217,     0.17317,     0.17417,     0.17518,     0.17618,     0.17718,     0.17818,     0.17918,     0.18018,     0.18118,     0.18218,     0.18318,     0.18418,     0.18519,     0.18619,     0.18719,     0.18819,     0.18919,     0.19019,     0.19119,\n",
              "           0.19219,     0.19319,     0.19419,      0.1952,      0.1962,      0.1972,      0.1982,      0.1992,      0.2002,      0.2012,      0.2022,      0.2032,      0.2042,     0.20521,     0.20621,     0.20721,     0.20821,     0.20921,     0.21021,     0.21121,     0.21221,     0.21321,     0.21421,     0.21522,\n",
              "           0.21622,     0.21722,     0.21822,     0.21922,     0.22022,     0.22122,     0.22222,     0.22322,     0.22422,     0.22523,     0.22623,     0.22723,     0.22823,     0.22923,     0.23023,     0.23123,     0.23223,     0.23323,     0.23423,     0.23524,     0.23624,     0.23724,     0.23824,     0.23924,\n",
              "           0.24024,     0.24124,     0.24224,     0.24324,     0.24424,     0.24525,     0.24625,     0.24725,     0.24825,     0.24925,     0.25025,     0.25125,     0.25225,     0.25325,     0.25425,     0.25526,     0.25626,     0.25726,     0.25826,     0.25926,     0.26026,     0.26126,     0.26226,     0.26326,\n",
              "           0.26426,     0.26527,     0.26627,     0.26727,     0.26827,     0.26927,     0.27027,     0.27127,     0.27227,     0.27327,     0.27427,     0.27528,     0.27628,     0.27728,     0.27828,     0.27928,     0.28028,     0.28128,     0.28228,     0.28328,     0.28428,     0.28529,     0.28629,     0.28729,\n",
              "           0.28829,     0.28929,     0.29029,     0.29129,     0.29229,     0.29329,     0.29429,      0.2953,      0.2963,      0.2973,      0.2983,      0.2993,      0.3003,      0.3013,      0.3023,      0.3033,      0.3043,     0.30531,     0.30631,     0.30731,     0.30831,     0.30931,     0.31031,     0.31131,\n",
              "           0.31231,     0.31331,     0.31431,     0.31532,     0.31632,     0.31732,     0.31832,     0.31932,     0.32032,     0.32132,     0.32232,     0.32332,     0.32432,     0.32533,     0.32633,     0.32733,     0.32833,     0.32933,     0.33033,     0.33133,     0.33233,     0.33333,     0.33433,     0.33534,\n",
              "           0.33634,     0.33734,     0.33834,     0.33934,     0.34034,     0.34134,     0.34234,     0.34334,     0.34434,     0.34535,     0.34635,     0.34735,     0.34835,     0.34935,     0.35035,     0.35135,     0.35235,     0.35335,     0.35435,     0.35536,     0.35636,     0.35736,     0.35836,     0.35936,\n",
              "           0.36036,     0.36136,     0.36236,     0.36336,     0.36436,     0.36537,     0.36637,     0.36737,     0.36837,     0.36937,     0.37037,     0.37137,     0.37237,     0.37337,     0.37437,     0.37538,     0.37638,     0.37738,     0.37838,     0.37938,     0.38038,     0.38138,     0.38238,     0.38338,\n",
              "           0.38438,     0.38539,     0.38639,     0.38739,     0.38839,     0.38939,     0.39039,     0.39139,     0.39239,     0.39339,     0.39439,      0.3954,      0.3964,      0.3974,      0.3984,      0.3994,      0.4004,      0.4014,      0.4024,      0.4034,      0.4044,     0.40541,     0.40641,     0.40741,\n",
              "           0.40841,     0.40941,     0.41041,     0.41141,     0.41241,     0.41341,     0.41441,     0.41542,     0.41642,     0.41742,     0.41842,     0.41942,     0.42042,     0.42142,     0.42242,     0.42342,     0.42442,     0.42543,     0.42643,     0.42743,     0.42843,     0.42943,     0.43043,     0.43143,\n",
              "           0.43243,     0.43343,     0.43443,     0.43544,     0.43644,     0.43744,     0.43844,     0.43944,     0.44044,     0.44144,     0.44244,     0.44344,     0.44444,     0.44545,     0.44645,     0.44745,     0.44845,     0.44945,     0.45045,     0.45145,     0.45245,     0.45345,     0.45445,     0.45546,\n",
              "           0.45646,     0.45746,     0.45846,     0.45946,     0.46046,     0.46146,     0.46246,     0.46346,     0.46446,     0.46547,     0.46647,     0.46747,     0.46847,     0.46947,     0.47047,     0.47147,     0.47247,     0.47347,     0.47447,     0.47548,     0.47648,     0.47748,     0.47848,     0.47948,\n",
              "           0.48048,     0.48148,     0.48248,     0.48348,     0.48448,     0.48549,     0.48649,     0.48749,     0.48849,     0.48949,     0.49049,     0.49149,     0.49249,     0.49349,     0.49449,      0.4955,      0.4965,      0.4975,      0.4985,      0.4995,      0.5005,      0.5015,      0.5025,      0.5035,\n",
              "            0.5045,     0.50551,     0.50651,     0.50751,     0.50851,     0.50951,     0.51051,     0.51151,     0.51251,     0.51351,     0.51451,     0.51552,     0.51652,     0.51752,     0.51852,     0.51952,     0.52052,     0.52152,     0.52252,     0.52352,     0.52452,     0.52553,     0.52653,     0.52753,\n",
              "           0.52853,     0.52953,     0.53053,     0.53153,     0.53253,     0.53353,     0.53453,     0.53554,     0.53654,     0.53754,     0.53854,     0.53954,     0.54054,     0.54154,     0.54254,     0.54354,     0.54454,     0.54555,     0.54655,     0.54755,     0.54855,     0.54955,     0.55055,     0.55155,\n",
              "           0.55255,     0.55355,     0.55455,     0.55556,     0.55656,     0.55756,     0.55856,     0.55956,     0.56056,     0.56156,     0.56256,     0.56356,     0.56456,     0.56557,     0.56657,     0.56757,     0.56857,     0.56957,     0.57057,     0.57157,     0.57257,     0.57357,     0.57457,     0.57558,\n",
              "           0.57658,     0.57758,     0.57858,     0.57958,     0.58058,     0.58158,     0.58258,     0.58358,     0.58458,     0.58559,     0.58659,     0.58759,     0.58859,     0.58959,     0.59059,     0.59159,     0.59259,     0.59359,     0.59459,      0.5956,      0.5966,      0.5976,      0.5986,      0.5996,\n",
              "            0.6006,      0.6016,      0.6026,      0.6036,      0.6046,     0.60561,     0.60661,     0.60761,     0.60861,     0.60961,     0.61061,     0.61161,     0.61261,     0.61361,     0.61461,     0.61562,     0.61662,     0.61762,     0.61862,     0.61962,     0.62062,     0.62162,     0.62262,     0.62362,\n",
              "           0.62462,     0.62563,     0.62663,     0.62763,     0.62863,     0.62963,     0.63063,     0.63163,     0.63263,     0.63363,     0.63463,     0.63564,     0.63664,     0.63764,     0.63864,     0.63964,     0.64064,     0.64164,     0.64264,     0.64364,     0.64464,     0.64565,     0.64665,     0.64765,\n",
              "           0.64865,     0.64965,     0.65065,     0.65165,     0.65265,     0.65365,     0.65465,     0.65566,     0.65666,     0.65766,     0.65866,     0.65966,     0.66066,     0.66166,     0.66266,     0.66366,     0.66466,     0.66567,     0.66667,     0.66767,     0.66867,     0.66967,     0.67067,     0.67167,\n",
              "           0.67267,     0.67367,     0.67467,     0.67568,     0.67668,     0.67768,     0.67868,     0.67968,     0.68068,     0.68168,     0.68268,     0.68368,     0.68468,     0.68569,     0.68669,     0.68769,     0.68869,     0.68969,     0.69069,     0.69169,     0.69269,     0.69369,     0.69469,      0.6957,\n",
              "            0.6967,      0.6977,      0.6987,      0.6997,      0.7007,      0.7017,      0.7027,      0.7037,      0.7047,     0.70571,     0.70671,     0.70771,     0.70871,     0.70971,     0.71071,     0.71171,     0.71271,     0.71371,     0.71471,     0.71572,     0.71672,     0.71772,     0.71872,     0.71972,\n",
              "           0.72072,     0.72172,     0.72272,     0.72372,     0.72472,     0.72573,     0.72673,     0.72773,     0.72873,     0.72973,     0.73073,     0.73173,     0.73273,     0.73373,     0.73473,     0.73574,     0.73674,     0.73774,     0.73874,     0.73974,     0.74074,     0.74174,     0.74274,     0.74374,\n",
              "           0.74474,     0.74575,     0.74675,     0.74775,     0.74875,     0.74975,     0.75075,     0.75175,     0.75275,     0.75375,     0.75475,     0.75576,     0.75676,     0.75776,     0.75876,     0.75976,     0.76076,     0.76176,     0.76276,     0.76376,     0.76476,     0.76577,     0.76677,     0.76777,\n",
              "           0.76877,     0.76977,     0.77077,     0.77177,     0.77277,     0.77377,     0.77477,     0.77578,     0.77678,     0.77778,     0.77878,     0.77978,     0.78078,     0.78178,     0.78278,     0.78378,     0.78478,     0.78579,     0.78679,     0.78779,     0.78879,     0.78979,     0.79079,     0.79179,\n",
              "           0.79279,     0.79379,     0.79479,      0.7958,      0.7968,      0.7978,      0.7988,      0.7998,      0.8008,      0.8018,      0.8028,      0.8038,      0.8048,     0.80581,     0.80681,     0.80781,     0.80881,     0.80981,     0.81081,     0.81181,     0.81281,     0.81381,     0.81481,     0.81582,\n",
              "           0.81682,     0.81782,     0.81882,     0.81982,     0.82082,     0.82182,     0.82282,     0.82382,     0.82482,     0.82583,     0.82683,     0.82783,     0.82883,     0.82983,     0.83083,     0.83183,     0.83283,     0.83383,     0.83483,     0.83584,     0.83684,     0.83784,     0.83884,     0.83984,\n",
              "           0.84084,     0.84184,     0.84284,     0.84384,     0.84484,     0.84585,     0.84685,     0.84785,     0.84885,     0.84985,     0.85085,     0.85185,     0.85285,     0.85385,     0.85485,     0.85586,     0.85686,     0.85786,     0.85886,     0.85986,     0.86086,     0.86186,     0.86286,     0.86386,\n",
              "           0.86486,     0.86587,     0.86687,     0.86787,     0.86887,     0.86987,     0.87087,     0.87187,     0.87287,     0.87387,     0.87487,     0.87588,     0.87688,     0.87788,     0.87888,     0.87988,     0.88088,     0.88188,     0.88288,     0.88388,     0.88488,     0.88589,     0.88689,     0.88789,\n",
              "           0.88889,     0.88989,     0.89089,     0.89189,     0.89289,     0.89389,     0.89489,      0.8959,      0.8969,      0.8979,      0.8989,      0.8999,      0.9009,      0.9019,      0.9029,      0.9039,      0.9049,     0.90591,     0.90691,     0.90791,     0.90891,     0.90991,     0.91091,     0.91191,\n",
              "           0.91291,     0.91391,     0.91491,     0.91592,     0.91692,     0.91792,     0.91892,     0.91992,     0.92092,     0.92192,     0.92292,     0.92392,     0.92492,     0.92593,     0.92693,     0.92793,     0.92893,     0.92993,     0.93093,     0.93193,     0.93293,     0.93393,     0.93493,     0.93594,\n",
              "           0.93694,     0.93794,     0.93894,     0.93994,     0.94094,     0.94194,     0.94294,     0.94394,     0.94494,     0.94595,     0.94695,     0.94795,     0.94895,     0.94995,     0.95095,     0.95195,     0.95295,     0.95395,     0.95495,     0.95596,     0.95696,     0.95796,     0.95896,     0.95996,\n",
              "           0.96096,     0.96196,     0.96296,     0.96396,     0.96496,     0.96597,     0.96697,     0.96797,     0.96897,     0.96997,     0.97097,     0.97197,     0.97297,     0.97397,     0.97497,     0.97598,     0.97698,     0.97798,     0.97898,     0.97998,     0.98098,     0.98198,     0.98298,     0.98398,\n",
              "           0.98498,     0.98599,     0.98699,     0.98799,     0.98899,     0.98999,     0.99099,     0.99199,     0.99299,     0.99399,     0.99499,       0.996,       0.997,       0.998,       0.999,           1]), array([[   0.016234,    0.016234,    0.083269, ...,           1,           1,           1],\n",
              "       [    0.16364,     0.16364,     0.25841, ...,           1,           1,           1],\n",
              "       [   0.015152,    0.015152,    0.039984, ...,           1,           1,           1],\n",
              "       ...,\n",
              "       [   0.010526,    0.010526,    0.019501, ...,           1,           1,           1],\n",
              "       [   0.049689,    0.049689,     0.19258, ...,           1,           1,           1],\n",
              "       [   0.097561,    0.097561,     0.17014, ...,           1,           1,           1]]), 'Confidence', 'Precision'], [array([          0,    0.001001,    0.002002,    0.003003,    0.004004,    0.005005,    0.006006,    0.007007,    0.008008,    0.009009,     0.01001,    0.011011,    0.012012,    0.013013,    0.014014,    0.015015,    0.016016,    0.017017,    0.018018,    0.019019,     0.02002,    0.021021,    0.022022,    0.023023,\n",
              "          0.024024,    0.025025,    0.026026,    0.027027,    0.028028,    0.029029,     0.03003,    0.031031,    0.032032,    0.033033,    0.034034,    0.035035,    0.036036,    0.037037,    0.038038,    0.039039,     0.04004,    0.041041,    0.042042,    0.043043,    0.044044,    0.045045,    0.046046,    0.047047,\n",
              "          0.048048,    0.049049,     0.05005,    0.051051,    0.052052,    0.053053,    0.054054,    0.055055,    0.056056,    0.057057,    0.058058,    0.059059,     0.06006,    0.061061,    0.062062,    0.063063,    0.064064,    0.065065,    0.066066,    0.067067,    0.068068,    0.069069,     0.07007,    0.071071,\n",
              "          0.072072,    0.073073,    0.074074,    0.075075,    0.076076,    0.077077,    0.078078,    0.079079,     0.08008,    0.081081,    0.082082,    0.083083,    0.084084,    0.085085,    0.086086,    0.087087,    0.088088,    0.089089,     0.09009,    0.091091,    0.092092,    0.093093,    0.094094,    0.095095,\n",
              "          0.096096,    0.097097,    0.098098,    0.099099,      0.1001,      0.1011,      0.1021,      0.1031,      0.1041,     0.10511,     0.10611,     0.10711,     0.10811,     0.10911,     0.11011,     0.11111,     0.11211,     0.11311,     0.11411,     0.11512,     0.11612,     0.11712,     0.11812,     0.11912,\n",
              "           0.12012,     0.12112,     0.12212,     0.12312,     0.12412,     0.12513,     0.12613,     0.12713,     0.12813,     0.12913,     0.13013,     0.13113,     0.13213,     0.13313,     0.13413,     0.13514,     0.13614,     0.13714,     0.13814,     0.13914,     0.14014,     0.14114,     0.14214,     0.14314,\n",
              "           0.14414,     0.14515,     0.14615,     0.14715,     0.14815,     0.14915,     0.15015,     0.15115,     0.15215,     0.15315,     0.15415,     0.15516,     0.15616,     0.15716,     0.15816,     0.15916,     0.16016,     0.16116,     0.16216,     0.16316,     0.16416,     0.16517,     0.16617,     0.16717,\n",
              "           0.16817,     0.16917,     0.17017,     0.17117,     0.17217,     0.17317,     0.17417,     0.17518,     0.17618,     0.17718,     0.17818,     0.17918,     0.18018,     0.18118,     0.18218,     0.18318,     0.18418,     0.18519,     0.18619,     0.18719,     0.18819,     0.18919,     0.19019,     0.19119,\n",
              "           0.19219,     0.19319,     0.19419,      0.1952,      0.1962,      0.1972,      0.1982,      0.1992,      0.2002,      0.2012,      0.2022,      0.2032,      0.2042,     0.20521,     0.20621,     0.20721,     0.20821,     0.20921,     0.21021,     0.21121,     0.21221,     0.21321,     0.21421,     0.21522,\n",
              "           0.21622,     0.21722,     0.21822,     0.21922,     0.22022,     0.22122,     0.22222,     0.22322,     0.22422,     0.22523,     0.22623,     0.22723,     0.22823,     0.22923,     0.23023,     0.23123,     0.23223,     0.23323,     0.23423,     0.23524,     0.23624,     0.23724,     0.23824,     0.23924,\n",
              "           0.24024,     0.24124,     0.24224,     0.24324,     0.24424,     0.24525,     0.24625,     0.24725,     0.24825,     0.24925,     0.25025,     0.25125,     0.25225,     0.25325,     0.25425,     0.25526,     0.25626,     0.25726,     0.25826,     0.25926,     0.26026,     0.26126,     0.26226,     0.26326,\n",
              "           0.26426,     0.26527,     0.26627,     0.26727,     0.26827,     0.26927,     0.27027,     0.27127,     0.27227,     0.27327,     0.27427,     0.27528,     0.27628,     0.27728,     0.27828,     0.27928,     0.28028,     0.28128,     0.28228,     0.28328,     0.28428,     0.28529,     0.28629,     0.28729,\n",
              "           0.28829,     0.28929,     0.29029,     0.29129,     0.29229,     0.29329,     0.29429,      0.2953,      0.2963,      0.2973,      0.2983,      0.2993,      0.3003,      0.3013,      0.3023,      0.3033,      0.3043,     0.30531,     0.30631,     0.30731,     0.30831,     0.30931,     0.31031,     0.31131,\n",
              "           0.31231,     0.31331,     0.31431,     0.31532,     0.31632,     0.31732,     0.31832,     0.31932,     0.32032,     0.32132,     0.32232,     0.32332,     0.32432,     0.32533,     0.32633,     0.32733,     0.32833,     0.32933,     0.33033,     0.33133,     0.33233,     0.33333,     0.33433,     0.33534,\n",
              "           0.33634,     0.33734,     0.33834,     0.33934,     0.34034,     0.34134,     0.34234,     0.34334,     0.34434,     0.34535,     0.34635,     0.34735,     0.34835,     0.34935,     0.35035,     0.35135,     0.35235,     0.35335,     0.35435,     0.35536,     0.35636,     0.35736,     0.35836,     0.35936,\n",
              "           0.36036,     0.36136,     0.36236,     0.36336,     0.36436,     0.36537,     0.36637,     0.36737,     0.36837,     0.36937,     0.37037,     0.37137,     0.37237,     0.37337,     0.37437,     0.37538,     0.37638,     0.37738,     0.37838,     0.37938,     0.38038,     0.38138,     0.38238,     0.38338,\n",
              "           0.38438,     0.38539,     0.38639,     0.38739,     0.38839,     0.38939,     0.39039,     0.39139,     0.39239,     0.39339,     0.39439,      0.3954,      0.3964,      0.3974,      0.3984,      0.3994,      0.4004,      0.4014,      0.4024,      0.4034,      0.4044,     0.40541,     0.40641,     0.40741,\n",
              "           0.40841,     0.40941,     0.41041,     0.41141,     0.41241,     0.41341,     0.41441,     0.41542,     0.41642,     0.41742,     0.41842,     0.41942,     0.42042,     0.42142,     0.42242,     0.42342,     0.42442,     0.42543,     0.42643,     0.42743,     0.42843,     0.42943,     0.43043,     0.43143,\n",
              "           0.43243,     0.43343,     0.43443,     0.43544,     0.43644,     0.43744,     0.43844,     0.43944,     0.44044,     0.44144,     0.44244,     0.44344,     0.44444,     0.44545,     0.44645,     0.44745,     0.44845,     0.44945,     0.45045,     0.45145,     0.45245,     0.45345,     0.45445,     0.45546,\n",
              "           0.45646,     0.45746,     0.45846,     0.45946,     0.46046,     0.46146,     0.46246,     0.46346,     0.46446,     0.46547,     0.46647,     0.46747,     0.46847,     0.46947,     0.47047,     0.47147,     0.47247,     0.47347,     0.47447,     0.47548,     0.47648,     0.47748,     0.47848,     0.47948,\n",
              "           0.48048,     0.48148,     0.48248,     0.48348,     0.48448,     0.48549,     0.48649,     0.48749,     0.48849,     0.48949,     0.49049,     0.49149,     0.49249,     0.49349,     0.49449,      0.4955,      0.4965,      0.4975,      0.4985,      0.4995,      0.5005,      0.5015,      0.5025,      0.5035,\n",
              "            0.5045,     0.50551,     0.50651,     0.50751,     0.50851,     0.50951,     0.51051,     0.51151,     0.51251,     0.51351,     0.51451,     0.51552,     0.51652,     0.51752,     0.51852,     0.51952,     0.52052,     0.52152,     0.52252,     0.52352,     0.52452,     0.52553,     0.52653,     0.52753,\n",
              "           0.52853,     0.52953,     0.53053,     0.53153,     0.53253,     0.53353,     0.53453,     0.53554,     0.53654,     0.53754,     0.53854,     0.53954,     0.54054,     0.54154,     0.54254,     0.54354,     0.54454,     0.54555,     0.54655,     0.54755,     0.54855,     0.54955,     0.55055,     0.55155,\n",
              "           0.55255,     0.55355,     0.55455,     0.55556,     0.55656,     0.55756,     0.55856,     0.55956,     0.56056,     0.56156,     0.56256,     0.56356,     0.56456,     0.56557,     0.56657,     0.56757,     0.56857,     0.56957,     0.57057,     0.57157,     0.57257,     0.57357,     0.57457,     0.57558,\n",
              "           0.57658,     0.57758,     0.57858,     0.57958,     0.58058,     0.58158,     0.58258,     0.58358,     0.58458,     0.58559,     0.58659,     0.58759,     0.58859,     0.58959,     0.59059,     0.59159,     0.59259,     0.59359,     0.59459,      0.5956,      0.5966,      0.5976,      0.5986,      0.5996,\n",
              "            0.6006,      0.6016,      0.6026,      0.6036,      0.6046,     0.60561,     0.60661,     0.60761,     0.60861,     0.60961,     0.61061,     0.61161,     0.61261,     0.61361,     0.61461,     0.61562,     0.61662,     0.61762,     0.61862,     0.61962,     0.62062,     0.62162,     0.62262,     0.62362,\n",
              "           0.62462,     0.62563,     0.62663,     0.62763,     0.62863,     0.62963,     0.63063,     0.63163,     0.63263,     0.63363,     0.63463,     0.63564,     0.63664,     0.63764,     0.63864,     0.63964,     0.64064,     0.64164,     0.64264,     0.64364,     0.64464,     0.64565,     0.64665,     0.64765,\n",
              "           0.64865,     0.64965,     0.65065,     0.65165,     0.65265,     0.65365,     0.65465,     0.65566,     0.65666,     0.65766,     0.65866,     0.65966,     0.66066,     0.66166,     0.66266,     0.66366,     0.66466,     0.66567,     0.66667,     0.66767,     0.66867,     0.66967,     0.67067,     0.67167,\n",
              "           0.67267,     0.67367,     0.67467,     0.67568,     0.67668,     0.67768,     0.67868,     0.67968,     0.68068,     0.68168,     0.68268,     0.68368,     0.68468,     0.68569,     0.68669,     0.68769,     0.68869,     0.68969,     0.69069,     0.69169,     0.69269,     0.69369,     0.69469,      0.6957,\n",
              "            0.6967,      0.6977,      0.6987,      0.6997,      0.7007,      0.7017,      0.7027,      0.7037,      0.7047,     0.70571,     0.70671,     0.70771,     0.70871,     0.70971,     0.71071,     0.71171,     0.71271,     0.71371,     0.71471,     0.71572,     0.71672,     0.71772,     0.71872,     0.71972,\n",
              "           0.72072,     0.72172,     0.72272,     0.72372,     0.72472,     0.72573,     0.72673,     0.72773,     0.72873,     0.72973,     0.73073,     0.73173,     0.73273,     0.73373,     0.73473,     0.73574,     0.73674,     0.73774,     0.73874,     0.73974,     0.74074,     0.74174,     0.74274,     0.74374,\n",
              "           0.74474,     0.74575,     0.74675,     0.74775,     0.74875,     0.74975,     0.75075,     0.75175,     0.75275,     0.75375,     0.75475,     0.75576,     0.75676,     0.75776,     0.75876,     0.75976,     0.76076,     0.76176,     0.76276,     0.76376,     0.76476,     0.76577,     0.76677,     0.76777,\n",
              "           0.76877,     0.76977,     0.77077,     0.77177,     0.77277,     0.77377,     0.77477,     0.77578,     0.77678,     0.77778,     0.77878,     0.77978,     0.78078,     0.78178,     0.78278,     0.78378,     0.78478,     0.78579,     0.78679,     0.78779,     0.78879,     0.78979,     0.79079,     0.79179,\n",
              "           0.79279,     0.79379,     0.79479,      0.7958,      0.7968,      0.7978,      0.7988,      0.7998,      0.8008,      0.8018,      0.8028,      0.8038,      0.8048,     0.80581,     0.80681,     0.80781,     0.80881,     0.80981,     0.81081,     0.81181,     0.81281,     0.81381,     0.81481,     0.81582,\n",
              "           0.81682,     0.81782,     0.81882,     0.81982,     0.82082,     0.82182,     0.82282,     0.82382,     0.82482,     0.82583,     0.82683,     0.82783,     0.82883,     0.82983,     0.83083,     0.83183,     0.83283,     0.83383,     0.83483,     0.83584,     0.83684,     0.83784,     0.83884,     0.83984,\n",
              "           0.84084,     0.84184,     0.84284,     0.84384,     0.84484,     0.84585,     0.84685,     0.84785,     0.84885,     0.84985,     0.85085,     0.85185,     0.85285,     0.85385,     0.85485,     0.85586,     0.85686,     0.85786,     0.85886,     0.85986,     0.86086,     0.86186,     0.86286,     0.86386,\n",
              "           0.86486,     0.86587,     0.86687,     0.86787,     0.86887,     0.86987,     0.87087,     0.87187,     0.87287,     0.87387,     0.87487,     0.87588,     0.87688,     0.87788,     0.87888,     0.87988,     0.88088,     0.88188,     0.88288,     0.88388,     0.88488,     0.88589,     0.88689,     0.88789,\n",
              "           0.88889,     0.88989,     0.89089,     0.89189,     0.89289,     0.89389,     0.89489,      0.8959,      0.8969,      0.8979,      0.8989,      0.8999,      0.9009,      0.9019,      0.9029,      0.9039,      0.9049,     0.90591,     0.90691,     0.90791,     0.90891,     0.90991,     0.91091,     0.91191,\n",
              "           0.91291,     0.91391,     0.91491,     0.91592,     0.91692,     0.91792,     0.91892,     0.91992,     0.92092,     0.92192,     0.92292,     0.92392,     0.92492,     0.92593,     0.92693,     0.92793,     0.92893,     0.92993,     0.93093,     0.93193,     0.93293,     0.93393,     0.93493,     0.93594,\n",
              "           0.93694,     0.93794,     0.93894,     0.93994,     0.94094,     0.94194,     0.94294,     0.94394,     0.94494,     0.94595,     0.94695,     0.94795,     0.94895,     0.94995,     0.95095,     0.95195,     0.95295,     0.95395,     0.95495,     0.95596,     0.95696,     0.95796,     0.95896,     0.95996,\n",
              "           0.96096,     0.96196,     0.96296,     0.96396,     0.96496,     0.96597,     0.96697,     0.96797,     0.96897,     0.96997,     0.97097,     0.97197,     0.97297,     0.97397,     0.97497,     0.97598,     0.97698,     0.97798,     0.97898,     0.97998,     0.98098,     0.98198,     0.98298,     0.98398,\n",
              "           0.98498,     0.98599,     0.98699,     0.98799,     0.98899,     0.98999,     0.99099,     0.99199,     0.99299,     0.99399,     0.99499,       0.996,       0.997,       0.998,       0.999,           1]), array([[          1,           1,           1, ...,           0,           0,           0],\n",
              "       [          1,           1,           1, ...,           0,           0,           0],\n",
              "       [          1,           1,           1, ...,           0,           0,           0],\n",
              "       ...,\n",
              "       [          1,           1,           1, ...,           0,           0,           0],\n",
              "       [          1,           1,           1, ...,           0,           0,           0],\n",
              "       [          1,           1,           1, ...,           0,           0,           0]]), 'Confidence', 'Recall']]\n",
              "fitness: 0.8149263032035912\n",
              "keys: ['metrics/precision(B)', 'metrics/recall(B)', 'metrics/mAP50(B)', 'metrics/mAP50-95(B)']\n",
              "maps: array([    0.76133,     0.83397,     0.85167,     0.82543,     0.83349,     0.85762,     0.86388,     0.78565,     0.46932,     0.65063,     0.84747,     0.83086,     0.84118,     0.79096,     0.79212,     0.71211,     0.75842,     0.79498,      0.8376,     0.85342,     0.85587,     0.70082,     0.85201,      0.8955,\n",
              "           0.76346,     0.92149])\n",
              "names: {0: 'A', 1: 'B', 2: 'C', 3: 'D', 4: 'E', 5: 'F', 6: 'G', 7: 'H', 8: 'I', 9: 'J', 10: 'K', 11: 'L', 12: 'M', 13: 'N', 14: 'O', 15: 'P', 16: 'Q', 17: 'R', 18: 'S', 19: 'T', 20: 'U', 21: 'V', 22: 'W', 23: 'X', 24: 'Y', 25: 'Z'}\n",
              "plot: True\n",
              "results_dict: {'metrics/precision(B)': 0.9131206110472329, 'metrics/recall(B)': 0.9011784331125494, 'metrics/mAP50(B)': 0.9557488957121312, 'metrics/mAP50-95(B)': 0.79927934848042, 'fitness': 0.8149263032035912}\n",
              "save_dir: PosixPath('runs/detect/sign_language_model')\n",
              "speed: {'preprocess': 0.30072861247592503, 'inference': 2.9267304473453097, 'loss': 0.00042054388258192275, 'postprocess': 4.943167169888814}\n",
              "task: 'detect'"
            ]
          },
          "metadata": {},
          "execution_count": 3
        }
      ]
    },
    {
      "cell_type": "markdown",
      "source": [
        "**3. Model Evaluation**"
      ],
      "metadata": {
        "id": "iKpQSZ85jeLd"
      }
    },
    {
      "cell_type": "code",
      "source": [
        "metrics = model.val()\n",
        "print(metrics)\n"
      ],
      "metadata": {
        "colab": {
          "base_uri": "https://localhost:8080/"
        },
        "id": "fHn2e73nTQbN",
        "outputId": "cfb49d97-44fb-45fd-d3eb-72a780913c31"
      },
      "execution_count": 4,
      "outputs": [
        {
          "output_type": "stream",
          "name": "stdout",
          "text": [
            "Ultralytics 8.3.68 🚀 Python-3.11.11 torch-2.5.1+cu121 CUDA:0 (Tesla T4, 15102MiB)\n",
            "Model summary (fused): 168 layers, 3,010,718 parameters, 0 gradients, 8.1 GFLOPs\n"
          ]
        },
        {
          "output_type": "stream",
          "name": "stderr",
          "text": [
            "\u001b[34m\u001b[1mval: \u001b[0mScanning /content/drive/MyDrive/Colab Notebooks/sign/valid/labels.cache... 144 images, 0 backgrounds, 0 corrupt: 100%|██████████| 144/144 [00:00<?, ?it/s]\n",
            "                 Class     Images  Instances      Box(P          R      mAP50  mAP50-95): 100%|██████████| 9/9 [00:03<00:00,  2.40it/s]\n"
          ]
        },
        {
          "output_type": "stream",
          "name": "stdout",
          "text": [
            "                   all        144        144      0.912      0.901      0.956      0.802\n",
            "                     A          5          5      0.992        0.8      0.906      0.788\n",
            "                     B          9          9      0.978          1      0.995      0.835\n",
            "                     C          3          3          1      0.839      0.995      0.852\n",
            "                     D          6          6      0.797          1      0.972      0.825\n",
            "                     E          4          4      0.873          1      0.995      0.833\n",
            "                     F          8          8      0.894          1      0.995      0.872\n",
            "                     G          5          5      0.934          1      0.995      0.864\n",
            "                     H          9          9       0.99          1      0.995      0.782\n",
            "                     I          2          2        0.8        0.5      0.524      0.469\n",
            "                     J          8          8          1      0.998      0.995      0.651\n",
            "                     K          6          6          1      0.762      0.995      0.848\n",
            "                     L          4          4      0.861       0.75      0.945      0.831\n",
            "                     M          8          8          1       0.77      0.995      0.841\n",
            "                     N          4          4      0.696          1      0.945      0.791\n",
            "                     O          7          7          1      0.966      0.995      0.792\n",
            "                     P          7          7          1      0.847      0.964      0.712\n",
            "                     Q          4          4      0.868       0.75      0.945      0.758\n",
            "                     R          7          7      0.862          1       0.96      0.795\n",
            "                     S          4          4      0.909          1      0.995      0.833\n",
            "                     T          6          6          1      0.813      0.942      0.853\n",
            "                     U          7          7      0.993          1      0.995      0.888\n",
            "                     V          5          5       0.79        0.8      0.826      0.701\n",
            "                     W          3          3      0.888          1      0.995      0.852\n",
            "                     X          1          1      0.652          1      0.995      0.895\n",
            "                     Y          8          8          1      0.818      0.995      0.763\n",
            "                     Z          4          4      0.941          1      0.995      0.921\n",
            "Speed: 0.4ms preprocess, 5.3ms inference, 0.0ms loss, 4.0ms postprocess per image\n",
            "Results saved to \u001b[1mruns/detect/sign_language_model2\u001b[0m\n",
            "ultralytics.utils.metrics.DetMetrics object with attributes:\n",
            "\n",
            "ap_class_index: array([ 0,  1,  2,  3,  4,  5,  6,  7,  8,  9, 10, 11, 12, 13, 14, 15, 16, 17, 18, 19, 20, 21, 22, 23, 24, 25])\n",
            "box: ultralytics.utils.metrics.Metric object\n",
            "confusion_matrix: <ultralytics.utils.metrics.ConfusionMatrix object at 0x7abe9546ce10>\n",
            "curves: ['Precision-Recall(B)', 'F1-Confidence(B)', 'Precision-Confidence(B)', 'Recall-Confidence(B)']\n",
            "curves_results: [[array([          0,    0.001001,    0.002002,    0.003003,    0.004004,    0.005005,    0.006006,    0.007007,    0.008008,    0.009009,     0.01001,    0.011011,    0.012012,    0.013013,    0.014014,    0.015015,    0.016016,    0.017017,    0.018018,    0.019019,     0.02002,    0.021021,    0.022022,    0.023023,\n",
            "          0.024024,    0.025025,    0.026026,    0.027027,    0.028028,    0.029029,     0.03003,    0.031031,    0.032032,    0.033033,    0.034034,    0.035035,    0.036036,    0.037037,    0.038038,    0.039039,     0.04004,    0.041041,    0.042042,    0.043043,    0.044044,    0.045045,    0.046046,    0.047047,\n",
            "          0.048048,    0.049049,     0.05005,    0.051051,    0.052052,    0.053053,    0.054054,    0.055055,    0.056056,    0.057057,    0.058058,    0.059059,     0.06006,    0.061061,    0.062062,    0.063063,    0.064064,    0.065065,    0.066066,    0.067067,    0.068068,    0.069069,     0.07007,    0.071071,\n",
            "          0.072072,    0.073073,    0.074074,    0.075075,    0.076076,    0.077077,    0.078078,    0.079079,     0.08008,    0.081081,    0.082082,    0.083083,    0.084084,    0.085085,    0.086086,    0.087087,    0.088088,    0.089089,     0.09009,    0.091091,    0.092092,    0.093093,    0.094094,    0.095095,\n",
            "          0.096096,    0.097097,    0.098098,    0.099099,      0.1001,      0.1011,      0.1021,      0.1031,      0.1041,     0.10511,     0.10611,     0.10711,     0.10811,     0.10911,     0.11011,     0.11111,     0.11211,     0.11311,     0.11411,     0.11512,     0.11612,     0.11712,     0.11812,     0.11912,\n",
            "           0.12012,     0.12112,     0.12212,     0.12312,     0.12412,     0.12513,     0.12613,     0.12713,     0.12813,     0.12913,     0.13013,     0.13113,     0.13213,     0.13313,     0.13413,     0.13514,     0.13614,     0.13714,     0.13814,     0.13914,     0.14014,     0.14114,     0.14214,     0.14314,\n",
            "           0.14414,     0.14515,     0.14615,     0.14715,     0.14815,     0.14915,     0.15015,     0.15115,     0.15215,     0.15315,     0.15415,     0.15516,     0.15616,     0.15716,     0.15816,     0.15916,     0.16016,     0.16116,     0.16216,     0.16316,     0.16416,     0.16517,     0.16617,     0.16717,\n",
            "           0.16817,     0.16917,     0.17017,     0.17117,     0.17217,     0.17317,     0.17417,     0.17518,     0.17618,     0.17718,     0.17818,     0.17918,     0.18018,     0.18118,     0.18218,     0.18318,     0.18418,     0.18519,     0.18619,     0.18719,     0.18819,     0.18919,     0.19019,     0.19119,\n",
            "           0.19219,     0.19319,     0.19419,      0.1952,      0.1962,      0.1972,      0.1982,      0.1992,      0.2002,      0.2012,      0.2022,      0.2032,      0.2042,     0.20521,     0.20621,     0.20721,     0.20821,     0.20921,     0.21021,     0.21121,     0.21221,     0.21321,     0.21421,     0.21522,\n",
            "           0.21622,     0.21722,     0.21822,     0.21922,     0.22022,     0.22122,     0.22222,     0.22322,     0.22422,     0.22523,     0.22623,     0.22723,     0.22823,     0.22923,     0.23023,     0.23123,     0.23223,     0.23323,     0.23423,     0.23524,     0.23624,     0.23724,     0.23824,     0.23924,\n",
            "           0.24024,     0.24124,     0.24224,     0.24324,     0.24424,     0.24525,     0.24625,     0.24725,     0.24825,     0.24925,     0.25025,     0.25125,     0.25225,     0.25325,     0.25425,     0.25526,     0.25626,     0.25726,     0.25826,     0.25926,     0.26026,     0.26126,     0.26226,     0.26326,\n",
            "           0.26426,     0.26527,     0.26627,     0.26727,     0.26827,     0.26927,     0.27027,     0.27127,     0.27227,     0.27327,     0.27427,     0.27528,     0.27628,     0.27728,     0.27828,     0.27928,     0.28028,     0.28128,     0.28228,     0.28328,     0.28428,     0.28529,     0.28629,     0.28729,\n",
            "           0.28829,     0.28929,     0.29029,     0.29129,     0.29229,     0.29329,     0.29429,      0.2953,      0.2963,      0.2973,      0.2983,      0.2993,      0.3003,      0.3013,      0.3023,      0.3033,      0.3043,     0.30531,     0.30631,     0.30731,     0.30831,     0.30931,     0.31031,     0.31131,\n",
            "           0.31231,     0.31331,     0.31431,     0.31532,     0.31632,     0.31732,     0.31832,     0.31932,     0.32032,     0.32132,     0.32232,     0.32332,     0.32432,     0.32533,     0.32633,     0.32733,     0.32833,     0.32933,     0.33033,     0.33133,     0.33233,     0.33333,     0.33433,     0.33534,\n",
            "           0.33634,     0.33734,     0.33834,     0.33934,     0.34034,     0.34134,     0.34234,     0.34334,     0.34434,     0.34535,     0.34635,     0.34735,     0.34835,     0.34935,     0.35035,     0.35135,     0.35235,     0.35335,     0.35435,     0.35536,     0.35636,     0.35736,     0.35836,     0.35936,\n",
            "           0.36036,     0.36136,     0.36236,     0.36336,     0.36436,     0.36537,     0.36637,     0.36737,     0.36837,     0.36937,     0.37037,     0.37137,     0.37237,     0.37337,     0.37437,     0.37538,     0.37638,     0.37738,     0.37838,     0.37938,     0.38038,     0.38138,     0.38238,     0.38338,\n",
            "           0.38438,     0.38539,     0.38639,     0.38739,     0.38839,     0.38939,     0.39039,     0.39139,     0.39239,     0.39339,     0.39439,      0.3954,      0.3964,      0.3974,      0.3984,      0.3994,      0.4004,      0.4014,      0.4024,      0.4034,      0.4044,     0.40541,     0.40641,     0.40741,\n",
            "           0.40841,     0.40941,     0.41041,     0.41141,     0.41241,     0.41341,     0.41441,     0.41542,     0.41642,     0.41742,     0.41842,     0.41942,     0.42042,     0.42142,     0.42242,     0.42342,     0.42442,     0.42543,     0.42643,     0.42743,     0.42843,     0.42943,     0.43043,     0.43143,\n",
            "           0.43243,     0.43343,     0.43443,     0.43544,     0.43644,     0.43744,     0.43844,     0.43944,     0.44044,     0.44144,     0.44244,     0.44344,     0.44444,     0.44545,     0.44645,     0.44745,     0.44845,     0.44945,     0.45045,     0.45145,     0.45245,     0.45345,     0.45445,     0.45546,\n",
            "           0.45646,     0.45746,     0.45846,     0.45946,     0.46046,     0.46146,     0.46246,     0.46346,     0.46446,     0.46547,     0.46647,     0.46747,     0.46847,     0.46947,     0.47047,     0.47147,     0.47247,     0.47347,     0.47447,     0.47548,     0.47648,     0.47748,     0.47848,     0.47948,\n",
            "           0.48048,     0.48148,     0.48248,     0.48348,     0.48448,     0.48549,     0.48649,     0.48749,     0.48849,     0.48949,     0.49049,     0.49149,     0.49249,     0.49349,     0.49449,      0.4955,      0.4965,      0.4975,      0.4985,      0.4995,      0.5005,      0.5015,      0.5025,      0.5035,\n",
            "            0.5045,     0.50551,     0.50651,     0.50751,     0.50851,     0.50951,     0.51051,     0.51151,     0.51251,     0.51351,     0.51451,     0.51552,     0.51652,     0.51752,     0.51852,     0.51952,     0.52052,     0.52152,     0.52252,     0.52352,     0.52452,     0.52553,     0.52653,     0.52753,\n",
            "           0.52853,     0.52953,     0.53053,     0.53153,     0.53253,     0.53353,     0.53453,     0.53554,     0.53654,     0.53754,     0.53854,     0.53954,     0.54054,     0.54154,     0.54254,     0.54354,     0.54454,     0.54555,     0.54655,     0.54755,     0.54855,     0.54955,     0.55055,     0.55155,\n",
            "           0.55255,     0.55355,     0.55455,     0.55556,     0.55656,     0.55756,     0.55856,     0.55956,     0.56056,     0.56156,     0.56256,     0.56356,     0.56456,     0.56557,     0.56657,     0.56757,     0.56857,     0.56957,     0.57057,     0.57157,     0.57257,     0.57357,     0.57457,     0.57558,\n",
            "           0.57658,     0.57758,     0.57858,     0.57958,     0.58058,     0.58158,     0.58258,     0.58358,     0.58458,     0.58559,     0.58659,     0.58759,     0.58859,     0.58959,     0.59059,     0.59159,     0.59259,     0.59359,     0.59459,      0.5956,      0.5966,      0.5976,      0.5986,      0.5996,\n",
            "            0.6006,      0.6016,      0.6026,      0.6036,      0.6046,     0.60561,     0.60661,     0.60761,     0.60861,     0.60961,     0.61061,     0.61161,     0.61261,     0.61361,     0.61461,     0.61562,     0.61662,     0.61762,     0.61862,     0.61962,     0.62062,     0.62162,     0.62262,     0.62362,\n",
            "           0.62462,     0.62563,     0.62663,     0.62763,     0.62863,     0.62963,     0.63063,     0.63163,     0.63263,     0.63363,     0.63463,     0.63564,     0.63664,     0.63764,     0.63864,     0.63964,     0.64064,     0.64164,     0.64264,     0.64364,     0.64464,     0.64565,     0.64665,     0.64765,\n",
            "           0.64865,     0.64965,     0.65065,     0.65165,     0.65265,     0.65365,     0.65465,     0.65566,     0.65666,     0.65766,     0.65866,     0.65966,     0.66066,     0.66166,     0.66266,     0.66366,     0.66466,     0.66567,     0.66667,     0.66767,     0.66867,     0.66967,     0.67067,     0.67167,\n",
            "           0.67267,     0.67367,     0.67467,     0.67568,     0.67668,     0.67768,     0.67868,     0.67968,     0.68068,     0.68168,     0.68268,     0.68368,     0.68468,     0.68569,     0.68669,     0.68769,     0.68869,     0.68969,     0.69069,     0.69169,     0.69269,     0.69369,     0.69469,      0.6957,\n",
            "            0.6967,      0.6977,      0.6987,      0.6997,      0.7007,      0.7017,      0.7027,      0.7037,      0.7047,     0.70571,     0.70671,     0.70771,     0.70871,     0.70971,     0.71071,     0.71171,     0.71271,     0.71371,     0.71471,     0.71572,     0.71672,     0.71772,     0.71872,     0.71972,\n",
            "           0.72072,     0.72172,     0.72272,     0.72372,     0.72472,     0.72573,     0.72673,     0.72773,     0.72873,     0.72973,     0.73073,     0.73173,     0.73273,     0.73373,     0.73473,     0.73574,     0.73674,     0.73774,     0.73874,     0.73974,     0.74074,     0.74174,     0.74274,     0.74374,\n",
            "           0.74474,     0.74575,     0.74675,     0.74775,     0.74875,     0.74975,     0.75075,     0.75175,     0.75275,     0.75375,     0.75475,     0.75576,     0.75676,     0.75776,     0.75876,     0.75976,     0.76076,     0.76176,     0.76276,     0.76376,     0.76476,     0.76577,     0.76677,     0.76777,\n",
            "           0.76877,     0.76977,     0.77077,     0.77177,     0.77277,     0.77377,     0.77477,     0.77578,     0.77678,     0.77778,     0.77878,     0.77978,     0.78078,     0.78178,     0.78278,     0.78378,     0.78478,     0.78579,     0.78679,     0.78779,     0.78879,     0.78979,     0.79079,     0.79179,\n",
            "           0.79279,     0.79379,     0.79479,      0.7958,      0.7968,      0.7978,      0.7988,      0.7998,      0.8008,      0.8018,      0.8028,      0.8038,      0.8048,     0.80581,     0.80681,     0.80781,     0.80881,     0.80981,     0.81081,     0.81181,     0.81281,     0.81381,     0.81481,     0.81582,\n",
            "           0.81682,     0.81782,     0.81882,     0.81982,     0.82082,     0.82182,     0.82282,     0.82382,     0.82482,     0.82583,     0.82683,     0.82783,     0.82883,     0.82983,     0.83083,     0.83183,     0.83283,     0.83383,     0.83483,     0.83584,     0.83684,     0.83784,     0.83884,     0.83984,\n",
            "           0.84084,     0.84184,     0.84284,     0.84384,     0.84484,     0.84585,     0.84685,     0.84785,     0.84885,     0.84985,     0.85085,     0.85185,     0.85285,     0.85385,     0.85485,     0.85586,     0.85686,     0.85786,     0.85886,     0.85986,     0.86086,     0.86186,     0.86286,     0.86386,\n",
            "           0.86486,     0.86587,     0.86687,     0.86787,     0.86887,     0.86987,     0.87087,     0.87187,     0.87287,     0.87387,     0.87487,     0.87588,     0.87688,     0.87788,     0.87888,     0.87988,     0.88088,     0.88188,     0.88288,     0.88388,     0.88488,     0.88589,     0.88689,     0.88789,\n",
            "           0.88889,     0.88989,     0.89089,     0.89189,     0.89289,     0.89389,     0.89489,      0.8959,      0.8969,      0.8979,      0.8989,      0.8999,      0.9009,      0.9019,      0.9029,      0.9039,      0.9049,     0.90591,     0.90691,     0.90791,     0.90891,     0.90991,     0.91091,     0.91191,\n",
            "           0.91291,     0.91391,     0.91491,     0.91592,     0.91692,     0.91792,     0.91892,     0.91992,     0.92092,     0.92192,     0.92292,     0.92392,     0.92492,     0.92593,     0.92693,     0.92793,     0.92893,     0.92993,     0.93093,     0.93193,     0.93293,     0.93393,     0.93493,     0.93594,\n",
            "           0.93694,     0.93794,     0.93894,     0.93994,     0.94094,     0.94194,     0.94294,     0.94394,     0.94494,     0.94595,     0.94695,     0.94795,     0.94895,     0.94995,     0.95095,     0.95195,     0.95295,     0.95395,     0.95495,     0.95596,     0.95696,     0.95796,     0.95896,     0.95996,\n",
            "           0.96096,     0.96196,     0.96296,     0.96396,     0.96496,     0.96597,     0.96697,     0.96797,     0.96897,     0.96997,     0.97097,     0.97197,     0.97297,     0.97397,     0.97497,     0.97598,     0.97698,     0.97798,     0.97898,     0.97998,     0.98098,     0.98198,     0.98298,     0.98398,\n",
            "           0.98498,     0.98599,     0.98699,     0.98799,     0.98899,     0.98999,     0.99099,     0.99199,     0.99299,     0.99399,     0.99499,       0.996,       0.997,       0.998,       0.999,           1]), array([[          1,           1,           1, ...,     0.55556,     0.55556,           0],\n",
            "       [          1,           1,           1, ...,           1,           1,           0],\n",
            "       [          1,           1,           1, ...,           1,           1,           0],\n",
            "       ...,\n",
            "       [          1,           1,           1, ...,           1,           1,           0],\n",
            "       [          1,           1,           1, ...,           1,           1,           0],\n",
            "       [          1,           1,           1, ...,           1,           1,           0]]), 'Recall', 'Precision'], [array([          0,    0.001001,    0.002002,    0.003003,    0.004004,    0.005005,    0.006006,    0.007007,    0.008008,    0.009009,     0.01001,    0.011011,    0.012012,    0.013013,    0.014014,    0.015015,    0.016016,    0.017017,    0.018018,    0.019019,     0.02002,    0.021021,    0.022022,    0.023023,\n",
            "          0.024024,    0.025025,    0.026026,    0.027027,    0.028028,    0.029029,     0.03003,    0.031031,    0.032032,    0.033033,    0.034034,    0.035035,    0.036036,    0.037037,    0.038038,    0.039039,     0.04004,    0.041041,    0.042042,    0.043043,    0.044044,    0.045045,    0.046046,    0.047047,\n",
            "          0.048048,    0.049049,     0.05005,    0.051051,    0.052052,    0.053053,    0.054054,    0.055055,    0.056056,    0.057057,    0.058058,    0.059059,     0.06006,    0.061061,    0.062062,    0.063063,    0.064064,    0.065065,    0.066066,    0.067067,    0.068068,    0.069069,     0.07007,    0.071071,\n",
            "          0.072072,    0.073073,    0.074074,    0.075075,    0.076076,    0.077077,    0.078078,    0.079079,     0.08008,    0.081081,    0.082082,    0.083083,    0.084084,    0.085085,    0.086086,    0.087087,    0.088088,    0.089089,     0.09009,    0.091091,    0.092092,    0.093093,    0.094094,    0.095095,\n",
            "          0.096096,    0.097097,    0.098098,    0.099099,      0.1001,      0.1011,      0.1021,      0.1031,      0.1041,     0.10511,     0.10611,     0.10711,     0.10811,     0.10911,     0.11011,     0.11111,     0.11211,     0.11311,     0.11411,     0.11512,     0.11612,     0.11712,     0.11812,     0.11912,\n",
            "           0.12012,     0.12112,     0.12212,     0.12312,     0.12412,     0.12513,     0.12613,     0.12713,     0.12813,     0.12913,     0.13013,     0.13113,     0.13213,     0.13313,     0.13413,     0.13514,     0.13614,     0.13714,     0.13814,     0.13914,     0.14014,     0.14114,     0.14214,     0.14314,\n",
            "           0.14414,     0.14515,     0.14615,     0.14715,     0.14815,     0.14915,     0.15015,     0.15115,     0.15215,     0.15315,     0.15415,     0.15516,     0.15616,     0.15716,     0.15816,     0.15916,     0.16016,     0.16116,     0.16216,     0.16316,     0.16416,     0.16517,     0.16617,     0.16717,\n",
            "           0.16817,     0.16917,     0.17017,     0.17117,     0.17217,     0.17317,     0.17417,     0.17518,     0.17618,     0.17718,     0.17818,     0.17918,     0.18018,     0.18118,     0.18218,     0.18318,     0.18418,     0.18519,     0.18619,     0.18719,     0.18819,     0.18919,     0.19019,     0.19119,\n",
            "           0.19219,     0.19319,     0.19419,      0.1952,      0.1962,      0.1972,      0.1982,      0.1992,      0.2002,      0.2012,      0.2022,      0.2032,      0.2042,     0.20521,     0.20621,     0.20721,     0.20821,     0.20921,     0.21021,     0.21121,     0.21221,     0.21321,     0.21421,     0.21522,\n",
            "           0.21622,     0.21722,     0.21822,     0.21922,     0.22022,     0.22122,     0.22222,     0.22322,     0.22422,     0.22523,     0.22623,     0.22723,     0.22823,     0.22923,     0.23023,     0.23123,     0.23223,     0.23323,     0.23423,     0.23524,     0.23624,     0.23724,     0.23824,     0.23924,\n",
            "           0.24024,     0.24124,     0.24224,     0.24324,     0.24424,     0.24525,     0.24625,     0.24725,     0.24825,     0.24925,     0.25025,     0.25125,     0.25225,     0.25325,     0.25425,     0.25526,     0.25626,     0.25726,     0.25826,     0.25926,     0.26026,     0.26126,     0.26226,     0.26326,\n",
            "           0.26426,     0.26527,     0.26627,     0.26727,     0.26827,     0.26927,     0.27027,     0.27127,     0.27227,     0.27327,     0.27427,     0.27528,     0.27628,     0.27728,     0.27828,     0.27928,     0.28028,     0.28128,     0.28228,     0.28328,     0.28428,     0.28529,     0.28629,     0.28729,\n",
            "           0.28829,     0.28929,     0.29029,     0.29129,     0.29229,     0.29329,     0.29429,      0.2953,      0.2963,      0.2973,      0.2983,      0.2993,      0.3003,      0.3013,      0.3023,      0.3033,      0.3043,     0.30531,     0.30631,     0.30731,     0.30831,     0.30931,     0.31031,     0.31131,\n",
            "           0.31231,     0.31331,     0.31431,     0.31532,     0.31632,     0.31732,     0.31832,     0.31932,     0.32032,     0.32132,     0.32232,     0.32332,     0.32432,     0.32533,     0.32633,     0.32733,     0.32833,     0.32933,     0.33033,     0.33133,     0.33233,     0.33333,     0.33433,     0.33534,\n",
            "           0.33634,     0.33734,     0.33834,     0.33934,     0.34034,     0.34134,     0.34234,     0.34334,     0.34434,     0.34535,     0.34635,     0.34735,     0.34835,     0.34935,     0.35035,     0.35135,     0.35235,     0.35335,     0.35435,     0.35536,     0.35636,     0.35736,     0.35836,     0.35936,\n",
            "           0.36036,     0.36136,     0.36236,     0.36336,     0.36436,     0.36537,     0.36637,     0.36737,     0.36837,     0.36937,     0.37037,     0.37137,     0.37237,     0.37337,     0.37437,     0.37538,     0.37638,     0.37738,     0.37838,     0.37938,     0.38038,     0.38138,     0.38238,     0.38338,\n",
            "           0.38438,     0.38539,     0.38639,     0.38739,     0.38839,     0.38939,     0.39039,     0.39139,     0.39239,     0.39339,     0.39439,      0.3954,      0.3964,      0.3974,      0.3984,      0.3994,      0.4004,      0.4014,      0.4024,      0.4034,      0.4044,     0.40541,     0.40641,     0.40741,\n",
            "           0.40841,     0.40941,     0.41041,     0.41141,     0.41241,     0.41341,     0.41441,     0.41542,     0.41642,     0.41742,     0.41842,     0.41942,     0.42042,     0.42142,     0.42242,     0.42342,     0.42442,     0.42543,     0.42643,     0.42743,     0.42843,     0.42943,     0.43043,     0.43143,\n",
            "           0.43243,     0.43343,     0.43443,     0.43544,     0.43644,     0.43744,     0.43844,     0.43944,     0.44044,     0.44144,     0.44244,     0.44344,     0.44444,     0.44545,     0.44645,     0.44745,     0.44845,     0.44945,     0.45045,     0.45145,     0.45245,     0.45345,     0.45445,     0.45546,\n",
            "           0.45646,     0.45746,     0.45846,     0.45946,     0.46046,     0.46146,     0.46246,     0.46346,     0.46446,     0.46547,     0.46647,     0.46747,     0.46847,     0.46947,     0.47047,     0.47147,     0.47247,     0.47347,     0.47447,     0.47548,     0.47648,     0.47748,     0.47848,     0.47948,\n",
            "           0.48048,     0.48148,     0.48248,     0.48348,     0.48448,     0.48549,     0.48649,     0.48749,     0.48849,     0.48949,     0.49049,     0.49149,     0.49249,     0.49349,     0.49449,      0.4955,      0.4965,      0.4975,      0.4985,      0.4995,      0.5005,      0.5015,      0.5025,      0.5035,\n",
            "            0.5045,     0.50551,     0.50651,     0.50751,     0.50851,     0.50951,     0.51051,     0.51151,     0.51251,     0.51351,     0.51451,     0.51552,     0.51652,     0.51752,     0.51852,     0.51952,     0.52052,     0.52152,     0.52252,     0.52352,     0.52452,     0.52553,     0.52653,     0.52753,\n",
            "           0.52853,     0.52953,     0.53053,     0.53153,     0.53253,     0.53353,     0.53453,     0.53554,     0.53654,     0.53754,     0.53854,     0.53954,     0.54054,     0.54154,     0.54254,     0.54354,     0.54454,     0.54555,     0.54655,     0.54755,     0.54855,     0.54955,     0.55055,     0.55155,\n",
            "           0.55255,     0.55355,     0.55455,     0.55556,     0.55656,     0.55756,     0.55856,     0.55956,     0.56056,     0.56156,     0.56256,     0.56356,     0.56456,     0.56557,     0.56657,     0.56757,     0.56857,     0.56957,     0.57057,     0.57157,     0.57257,     0.57357,     0.57457,     0.57558,\n",
            "           0.57658,     0.57758,     0.57858,     0.57958,     0.58058,     0.58158,     0.58258,     0.58358,     0.58458,     0.58559,     0.58659,     0.58759,     0.58859,     0.58959,     0.59059,     0.59159,     0.59259,     0.59359,     0.59459,      0.5956,      0.5966,      0.5976,      0.5986,      0.5996,\n",
            "            0.6006,      0.6016,      0.6026,      0.6036,      0.6046,     0.60561,     0.60661,     0.60761,     0.60861,     0.60961,     0.61061,     0.61161,     0.61261,     0.61361,     0.61461,     0.61562,     0.61662,     0.61762,     0.61862,     0.61962,     0.62062,     0.62162,     0.62262,     0.62362,\n",
            "           0.62462,     0.62563,     0.62663,     0.62763,     0.62863,     0.62963,     0.63063,     0.63163,     0.63263,     0.63363,     0.63463,     0.63564,     0.63664,     0.63764,     0.63864,     0.63964,     0.64064,     0.64164,     0.64264,     0.64364,     0.64464,     0.64565,     0.64665,     0.64765,\n",
            "           0.64865,     0.64965,     0.65065,     0.65165,     0.65265,     0.65365,     0.65465,     0.65566,     0.65666,     0.65766,     0.65866,     0.65966,     0.66066,     0.66166,     0.66266,     0.66366,     0.66466,     0.66567,     0.66667,     0.66767,     0.66867,     0.66967,     0.67067,     0.67167,\n",
            "           0.67267,     0.67367,     0.67467,     0.67568,     0.67668,     0.67768,     0.67868,     0.67968,     0.68068,     0.68168,     0.68268,     0.68368,     0.68468,     0.68569,     0.68669,     0.68769,     0.68869,     0.68969,     0.69069,     0.69169,     0.69269,     0.69369,     0.69469,      0.6957,\n",
            "            0.6967,      0.6977,      0.6987,      0.6997,      0.7007,      0.7017,      0.7027,      0.7037,      0.7047,     0.70571,     0.70671,     0.70771,     0.70871,     0.70971,     0.71071,     0.71171,     0.71271,     0.71371,     0.71471,     0.71572,     0.71672,     0.71772,     0.71872,     0.71972,\n",
            "           0.72072,     0.72172,     0.72272,     0.72372,     0.72472,     0.72573,     0.72673,     0.72773,     0.72873,     0.72973,     0.73073,     0.73173,     0.73273,     0.73373,     0.73473,     0.73574,     0.73674,     0.73774,     0.73874,     0.73974,     0.74074,     0.74174,     0.74274,     0.74374,\n",
            "           0.74474,     0.74575,     0.74675,     0.74775,     0.74875,     0.74975,     0.75075,     0.75175,     0.75275,     0.75375,     0.75475,     0.75576,     0.75676,     0.75776,     0.75876,     0.75976,     0.76076,     0.76176,     0.76276,     0.76376,     0.76476,     0.76577,     0.76677,     0.76777,\n",
            "           0.76877,     0.76977,     0.77077,     0.77177,     0.77277,     0.77377,     0.77477,     0.77578,     0.77678,     0.77778,     0.77878,     0.77978,     0.78078,     0.78178,     0.78278,     0.78378,     0.78478,     0.78579,     0.78679,     0.78779,     0.78879,     0.78979,     0.79079,     0.79179,\n",
            "           0.79279,     0.79379,     0.79479,      0.7958,      0.7968,      0.7978,      0.7988,      0.7998,      0.8008,      0.8018,      0.8028,      0.8038,      0.8048,     0.80581,     0.80681,     0.80781,     0.80881,     0.80981,     0.81081,     0.81181,     0.81281,     0.81381,     0.81481,     0.81582,\n",
            "           0.81682,     0.81782,     0.81882,     0.81982,     0.82082,     0.82182,     0.82282,     0.82382,     0.82482,     0.82583,     0.82683,     0.82783,     0.82883,     0.82983,     0.83083,     0.83183,     0.83283,     0.83383,     0.83483,     0.83584,     0.83684,     0.83784,     0.83884,     0.83984,\n",
            "           0.84084,     0.84184,     0.84284,     0.84384,     0.84484,     0.84585,     0.84685,     0.84785,     0.84885,     0.84985,     0.85085,     0.85185,     0.85285,     0.85385,     0.85485,     0.85586,     0.85686,     0.85786,     0.85886,     0.85986,     0.86086,     0.86186,     0.86286,     0.86386,\n",
            "           0.86486,     0.86587,     0.86687,     0.86787,     0.86887,     0.86987,     0.87087,     0.87187,     0.87287,     0.87387,     0.87487,     0.87588,     0.87688,     0.87788,     0.87888,     0.87988,     0.88088,     0.88188,     0.88288,     0.88388,     0.88488,     0.88589,     0.88689,     0.88789,\n",
            "           0.88889,     0.88989,     0.89089,     0.89189,     0.89289,     0.89389,     0.89489,      0.8959,      0.8969,      0.8979,      0.8989,      0.8999,      0.9009,      0.9019,      0.9029,      0.9039,      0.9049,     0.90591,     0.90691,     0.90791,     0.90891,     0.90991,     0.91091,     0.91191,\n",
            "           0.91291,     0.91391,     0.91491,     0.91592,     0.91692,     0.91792,     0.91892,     0.91992,     0.92092,     0.92192,     0.92292,     0.92392,     0.92492,     0.92593,     0.92693,     0.92793,     0.92893,     0.92993,     0.93093,     0.93193,     0.93293,     0.93393,     0.93493,     0.93594,\n",
            "           0.93694,     0.93794,     0.93894,     0.93994,     0.94094,     0.94194,     0.94294,     0.94394,     0.94494,     0.94595,     0.94695,     0.94795,     0.94895,     0.94995,     0.95095,     0.95195,     0.95295,     0.95395,     0.95495,     0.95596,     0.95696,     0.95796,     0.95896,     0.95996,\n",
            "           0.96096,     0.96196,     0.96296,     0.96396,     0.96496,     0.96597,     0.96697,     0.96797,     0.96897,     0.96997,     0.97097,     0.97197,     0.97297,     0.97397,     0.97497,     0.97598,     0.97698,     0.97798,     0.97898,     0.97998,     0.98098,     0.98198,     0.98298,     0.98398,\n",
            "           0.98498,     0.98599,     0.98699,     0.98799,     0.98899,     0.98999,     0.99099,     0.99199,     0.99299,     0.99399,     0.99499,       0.996,       0.997,       0.998,       0.999,           1]), array([[   0.031546,    0.031769,      0.1534, ...,           0,           0,           0],\n",
            "       [    0.28125,     0.28125,      0.4099, ...,           0,           0,           0],\n",
            "       [   0.029557,    0.029557,    0.075956, ...,           0,           0,           0],\n",
            "       ...,\n",
            "       [   0.020833,    0.020833,    0.038206, ...,           0,           0,           0],\n",
            "       [   0.093567,    0.093583,     0.32588, ...,           0,           0,           0],\n",
            "       [    0.17778,     0.17778,     0.29872, ...,           0,           0,           0]]), 'Confidence', 'F1'], [array([          0,    0.001001,    0.002002,    0.003003,    0.004004,    0.005005,    0.006006,    0.007007,    0.008008,    0.009009,     0.01001,    0.011011,    0.012012,    0.013013,    0.014014,    0.015015,    0.016016,    0.017017,    0.018018,    0.019019,     0.02002,    0.021021,    0.022022,    0.023023,\n",
            "          0.024024,    0.025025,    0.026026,    0.027027,    0.028028,    0.029029,     0.03003,    0.031031,    0.032032,    0.033033,    0.034034,    0.035035,    0.036036,    0.037037,    0.038038,    0.039039,     0.04004,    0.041041,    0.042042,    0.043043,    0.044044,    0.045045,    0.046046,    0.047047,\n",
            "          0.048048,    0.049049,     0.05005,    0.051051,    0.052052,    0.053053,    0.054054,    0.055055,    0.056056,    0.057057,    0.058058,    0.059059,     0.06006,    0.061061,    0.062062,    0.063063,    0.064064,    0.065065,    0.066066,    0.067067,    0.068068,    0.069069,     0.07007,    0.071071,\n",
            "          0.072072,    0.073073,    0.074074,    0.075075,    0.076076,    0.077077,    0.078078,    0.079079,     0.08008,    0.081081,    0.082082,    0.083083,    0.084084,    0.085085,    0.086086,    0.087087,    0.088088,    0.089089,     0.09009,    0.091091,    0.092092,    0.093093,    0.094094,    0.095095,\n",
            "          0.096096,    0.097097,    0.098098,    0.099099,      0.1001,      0.1011,      0.1021,      0.1031,      0.1041,     0.10511,     0.10611,     0.10711,     0.10811,     0.10911,     0.11011,     0.11111,     0.11211,     0.11311,     0.11411,     0.11512,     0.11612,     0.11712,     0.11812,     0.11912,\n",
            "           0.12012,     0.12112,     0.12212,     0.12312,     0.12412,     0.12513,     0.12613,     0.12713,     0.12813,     0.12913,     0.13013,     0.13113,     0.13213,     0.13313,     0.13413,     0.13514,     0.13614,     0.13714,     0.13814,     0.13914,     0.14014,     0.14114,     0.14214,     0.14314,\n",
            "           0.14414,     0.14515,     0.14615,     0.14715,     0.14815,     0.14915,     0.15015,     0.15115,     0.15215,     0.15315,     0.15415,     0.15516,     0.15616,     0.15716,     0.15816,     0.15916,     0.16016,     0.16116,     0.16216,     0.16316,     0.16416,     0.16517,     0.16617,     0.16717,\n",
            "           0.16817,     0.16917,     0.17017,     0.17117,     0.17217,     0.17317,     0.17417,     0.17518,     0.17618,     0.17718,     0.17818,     0.17918,     0.18018,     0.18118,     0.18218,     0.18318,     0.18418,     0.18519,     0.18619,     0.18719,     0.18819,     0.18919,     0.19019,     0.19119,\n",
            "           0.19219,     0.19319,     0.19419,      0.1952,      0.1962,      0.1972,      0.1982,      0.1992,      0.2002,      0.2012,      0.2022,      0.2032,      0.2042,     0.20521,     0.20621,     0.20721,     0.20821,     0.20921,     0.21021,     0.21121,     0.21221,     0.21321,     0.21421,     0.21522,\n",
            "           0.21622,     0.21722,     0.21822,     0.21922,     0.22022,     0.22122,     0.22222,     0.22322,     0.22422,     0.22523,     0.22623,     0.22723,     0.22823,     0.22923,     0.23023,     0.23123,     0.23223,     0.23323,     0.23423,     0.23524,     0.23624,     0.23724,     0.23824,     0.23924,\n",
            "           0.24024,     0.24124,     0.24224,     0.24324,     0.24424,     0.24525,     0.24625,     0.24725,     0.24825,     0.24925,     0.25025,     0.25125,     0.25225,     0.25325,     0.25425,     0.25526,     0.25626,     0.25726,     0.25826,     0.25926,     0.26026,     0.26126,     0.26226,     0.26326,\n",
            "           0.26426,     0.26527,     0.26627,     0.26727,     0.26827,     0.26927,     0.27027,     0.27127,     0.27227,     0.27327,     0.27427,     0.27528,     0.27628,     0.27728,     0.27828,     0.27928,     0.28028,     0.28128,     0.28228,     0.28328,     0.28428,     0.28529,     0.28629,     0.28729,\n",
            "           0.28829,     0.28929,     0.29029,     0.29129,     0.29229,     0.29329,     0.29429,      0.2953,      0.2963,      0.2973,      0.2983,      0.2993,      0.3003,      0.3013,      0.3023,      0.3033,      0.3043,     0.30531,     0.30631,     0.30731,     0.30831,     0.30931,     0.31031,     0.31131,\n",
            "           0.31231,     0.31331,     0.31431,     0.31532,     0.31632,     0.31732,     0.31832,     0.31932,     0.32032,     0.32132,     0.32232,     0.32332,     0.32432,     0.32533,     0.32633,     0.32733,     0.32833,     0.32933,     0.33033,     0.33133,     0.33233,     0.33333,     0.33433,     0.33534,\n",
            "           0.33634,     0.33734,     0.33834,     0.33934,     0.34034,     0.34134,     0.34234,     0.34334,     0.34434,     0.34535,     0.34635,     0.34735,     0.34835,     0.34935,     0.35035,     0.35135,     0.35235,     0.35335,     0.35435,     0.35536,     0.35636,     0.35736,     0.35836,     0.35936,\n",
            "           0.36036,     0.36136,     0.36236,     0.36336,     0.36436,     0.36537,     0.36637,     0.36737,     0.36837,     0.36937,     0.37037,     0.37137,     0.37237,     0.37337,     0.37437,     0.37538,     0.37638,     0.37738,     0.37838,     0.37938,     0.38038,     0.38138,     0.38238,     0.38338,\n",
            "           0.38438,     0.38539,     0.38639,     0.38739,     0.38839,     0.38939,     0.39039,     0.39139,     0.39239,     0.39339,     0.39439,      0.3954,      0.3964,      0.3974,      0.3984,      0.3994,      0.4004,      0.4014,      0.4024,      0.4034,      0.4044,     0.40541,     0.40641,     0.40741,\n",
            "           0.40841,     0.40941,     0.41041,     0.41141,     0.41241,     0.41341,     0.41441,     0.41542,     0.41642,     0.41742,     0.41842,     0.41942,     0.42042,     0.42142,     0.42242,     0.42342,     0.42442,     0.42543,     0.42643,     0.42743,     0.42843,     0.42943,     0.43043,     0.43143,\n",
            "           0.43243,     0.43343,     0.43443,     0.43544,     0.43644,     0.43744,     0.43844,     0.43944,     0.44044,     0.44144,     0.44244,     0.44344,     0.44444,     0.44545,     0.44645,     0.44745,     0.44845,     0.44945,     0.45045,     0.45145,     0.45245,     0.45345,     0.45445,     0.45546,\n",
            "           0.45646,     0.45746,     0.45846,     0.45946,     0.46046,     0.46146,     0.46246,     0.46346,     0.46446,     0.46547,     0.46647,     0.46747,     0.46847,     0.46947,     0.47047,     0.47147,     0.47247,     0.47347,     0.47447,     0.47548,     0.47648,     0.47748,     0.47848,     0.47948,\n",
            "           0.48048,     0.48148,     0.48248,     0.48348,     0.48448,     0.48549,     0.48649,     0.48749,     0.48849,     0.48949,     0.49049,     0.49149,     0.49249,     0.49349,     0.49449,      0.4955,      0.4965,      0.4975,      0.4985,      0.4995,      0.5005,      0.5015,      0.5025,      0.5035,\n",
            "            0.5045,     0.50551,     0.50651,     0.50751,     0.50851,     0.50951,     0.51051,     0.51151,     0.51251,     0.51351,     0.51451,     0.51552,     0.51652,     0.51752,     0.51852,     0.51952,     0.52052,     0.52152,     0.52252,     0.52352,     0.52452,     0.52553,     0.52653,     0.52753,\n",
            "           0.52853,     0.52953,     0.53053,     0.53153,     0.53253,     0.53353,     0.53453,     0.53554,     0.53654,     0.53754,     0.53854,     0.53954,     0.54054,     0.54154,     0.54254,     0.54354,     0.54454,     0.54555,     0.54655,     0.54755,     0.54855,     0.54955,     0.55055,     0.55155,\n",
            "           0.55255,     0.55355,     0.55455,     0.55556,     0.55656,     0.55756,     0.55856,     0.55956,     0.56056,     0.56156,     0.56256,     0.56356,     0.56456,     0.56557,     0.56657,     0.56757,     0.56857,     0.56957,     0.57057,     0.57157,     0.57257,     0.57357,     0.57457,     0.57558,\n",
            "           0.57658,     0.57758,     0.57858,     0.57958,     0.58058,     0.58158,     0.58258,     0.58358,     0.58458,     0.58559,     0.58659,     0.58759,     0.58859,     0.58959,     0.59059,     0.59159,     0.59259,     0.59359,     0.59459,      0.5956,      0.5966,      0.5976,      0.5986,      0.5996,\n",
            "            0.6006,      0.6016,      0.6026,      0.6036,      0.6046,     0.60561,     0.60661,     0.60761,     0.60861,     0.60961,     0.61061,     0.61161,     0.61261,     0.61361,     0.61461,     0.61562,     0.61662,     0.61762,     0.61862,     0.61962,     0.62062,     0.62162,     0.62262,     0.62362,\n",
            "           0.62462,     0.62563,     0.62663,     0.62763,     0.62863,     0.62963,     0.63063,     0.63163,     0.63263,     0.63363,     0.63463,     0.63564,     0.63664,     0.63764,     0.63864,     0.63964,     0.64064,     0.64164,     0.64264,     0.64364,     0.64464,     0.64565,     0.64665,     0.64765,\n",
            "           0.64865,     0.64965,     0.65065,     0.65165,     0.65265,     0.65365,     0.65465,     0.65566,     0.65666,     0.65766,     0.65866,     0.65966,     0.66066,     0.66166,     0.66266,     0.66366,     0.66466,     0.66567,     0.66667,     0.66767,     0.66867,     0.66967,     0.67067,     0.67167,\n",
            "           0.67267,     0.67367,     0.67467,     0.67568,     0.67668,     0.67768,     0.67868,     0.67968,     0.68068,     0.68168,     0.68268,     0.68368,     0.68468,     0.68569,     0.68669,     0.68769,     0.68869,     0.68969,     0.69069,     0.69169,     0.69269,     0.69369,     0.69469,      0.6957,\n",
            "            0.6967,      0.6977,      0.6987,      0.6997,      0.7007,      0.7017,      0.7027,      0.7037,      0.7047,     0.70571,     0.70671,     0.70771,     0.70871,     0.70971,     0.71071,     0.71171,     0.71271,     0.71371,     0.71471,     0.71572,     0.71672,     0.71772,     0.71872,     0.71972,\n",
            "           0.72072,     0.72172,     0.72272,     0.72372,     0.72472,     0.72573,     0.72673,     0.72773,     0.72873,     0.72973,     0.73073,     0.73173,     0.73273,     0.73373,     0.73473,     0.73574,     0.73674,     0.73774,     0.73874,     0.73974,     0.74074,     0.74174,     0.74274,     0.74374,\n",
            "           0.74474,     0.74575,     0.74675,     0.74775,     0.74875,     0.74975,     0.75075,     0.75175,     0.75275,     0.75375,     0.75475,     0.75576,     0.75676,     0.75776,     0.75876,     0.75976,     0.76076,     0.76176,     0.76276,     0.76376,     0.76476,     0.76577,     0.76677,     0.76777,\n",
            "           0.76877,     0.76977,     0.77077,     0.77177,     0.77277,     0.77377,     0.77477,     0.77578,     0.77678,     0.77778,     0.77878,     0.77978,     0.78078,     0.78178,     0.78278,     0.78378,     0.78478,     0.78579,     0.78679,     0.78779,     0.78879,     0.78979,     0.79079,     0.79179,\n",
            "           0.79279,     0.79379,     0.79479,      0.7958,      0.7968,      0.7978,      0.7988,      0.7998,      0.8008,      0.8018,      0.8028,      0.8038,      0.8048,     0.80581,     0.80681,     0.80781,     0.80881,     0.80981,     0.81081,     0.81181,     0.81281,     0.81381,     0.81481,     0.81582,\n",
            "           0.81682,     0.81782,     0.81882,     0.81982,     0.82082,     0.82182,     0.82282,     0.82382,     0.82482,     0.82583,     0.82683,     0.82783,     0.82883,     0.82983,     0.83083,     0.83183,     0.83283,     0.83383,     0.83483,     0.83584,     0.83684,     0.83784,     0.83884,     0.83984,\n",
            "           0.84084,     0.84184,     0.84284,     0.84384,     0.84484,     0.84585,     0.84685,     0.84785,     0.84885,     0.84985,     0.85085,     0.85185,     0.85285,     0.85385,     0.85485,     0.85586,     0.85686,     0.85786,     0.85886,     0.85986,     0.86086,     0.86186,     0.86286,     0.86386,\n",
            "           0.86486,     0.86587,     0.86687,     0.86787,     0.86887,     0.86987,     0.87087,     0.87187,     0.87287,     0.87387,     0.87487,     0.87588,     0.87688,     0.87788,     0.87888,     0.87988,     0.88088,     0.88188,     0.88288,     0.88388,     0.88488,     0.88589,     0.88689,     0.88789,\n",
            "           0.88889,     0.88989,     0.89089,     0.89189,     0.89289,     0.89389,     0.89489,      0.8959,      0.8969,      0.8979,      0.8989,      0.8999,      0.9009,      0.9019,      0.9029,      0.9039,      0.9049,     0.90591,     0.90691,     0.90791,     0.90891,     0.90991,     0.91091,     0.91191,\n",
            "           0.91291,     0.91391,     0.91491,     0.91592,     0.91692,     0.91792,     0.91892,     0.91992,     0.92092,     0.92192,     0.92292,     0.92392,     0.92492,     0.92593,     0.92693,     0.92793,     0.92893,     0.92993,     0.93093,     0.93193,     0.93293,     0.93393,     0.93493,     0.93594,\n",
            "           0.93694,     0.93794,     0.93894,     0.93994,     0.94094,     0.94194,     0.94294,     0.94394,     0.94494,     0.94595,     0.94695,     0.94795,     0.94895,     0.94995,     0.95095,     0.95195,     0.95295,     0.95395,     0.95495,     0.95596,     0.95696,     0.95796,     0.95896,     0.95996,\n",
            "           0.96096,     0.96196,     0.96296,     0.96396,     0.96496,     0.96597,     0.96697,     0.96797,     0.96897,     0.96997,     0.97097,     0.97197,     0.97297,     0.97397,     0.97497,     0.97598,     0.97698,     0.97798,     0.97898,     0.97998,     0.98098,     0.98198,     0.98298,     0.98398,\n",
            "           0.98498,     0.98599,     0.98699,     0.98799,     0.98899,     0.98999,     0.99099,     0.99199,     0.99299,     0.99399,     0.99499,       0.996,       0.997,       0.998,       0.999,           1]), array([[   0.016026,    0.016141,     0.08307, ...,           1,           1,           1],\n",
            "       [    0.16364,     0.16364,     0.25778, ...,           1,           1,           1],\n",
            "       [      0.015,       0.015,    0.039477, ...,           1,           1,           1],\n",
            "       ...,\n",
            "       [   0.010526,    0.010526,    0.019475, ...,           1,           1,           1],\n",
            "       [    0.04908,    0.049089,     0.19466, ...,           1,           1,           1],\n",
            "       [   0.097561,    0.097561,     0.17559, ...,           1,           1,           1]]), 'Confidence', 'Precision'], [array([          0,    0.001001,    0.002002,    0.003003,    0.004004,    0.005005,    0.006006,    0.007007,    0.008008,    0.009009,     0.01001,    0.011011,    0.012012,    0.013013,    0.014014,    0.015015,    0.016016,    0.017017,    0.018018,    0.019019,     0.02002,    0.021021,    0.022022,    0.023023,\n",
            "          0.024024,    0.025025,    0.026026,    0.027027,    0.028028,    0.029029,     0.03003,    0.031031,    0.032032,    0.033033,    0.034034,    0.035035,    0.036036,    0.037037,    0.038038,    0.039039,     0.04004,    0.041041,    0.042042,    0.043043,    0.044044,    0.045045,    0.046046,    0.047047,\n",
            "          0.048048,    0.049049,     0.05005,    0.051051,    0.052052,    0.053053,    0.054054,    0.055055,    0.056056,    0.057057,    0.058058,    0.059059,     0.06006,    0.061061,    0.062062,    0.063063,    0.064064,    0.065065,    0.066066,    0.067067,    0.068068,    0.069069,     0.07007,    0.071071,\n",
            "          0.072072,    0.073073,    0.074074,    0.075075,    0.076076,    0.077077,    0.078078,    0.079079,     0.08008,    0.081081,    0.082082,    0.083083,    0.084084,    0.085085,    0.086086,    0.087087,    0.088088,    0.089089,     0.09009,    0.091091,    0.092092,    0.093093,    0.094094,    0.095095,\n",
            "          0.096096,    0.097097,    0.098098,    0.099099,      0.1001,      0.1011,      0.1021,      0.1031,      0.1041,     0.10511,     0.10611,     0.10711,     0.10811,     0.10911,     0.11011,     0.11111,     0.11211,     0.11311,     0.11411,     0.11512,     0.11612,     0.11712,     0.11812,     0.11912,\n",
            "           0.12012,     0.12112,     0.12212,     0.12312,     0.12412,     0.12513,     0.12613,     0.12713,     0.12813,     0.12913,     0.13013,     0.13113,     0.13213,     0.13313,     0.13413,     0.13514,     0.13614,     0.13714,     0.13814,     0.13914,     0.14014,     0.14114,     0.14214,     0.14314,\n",
            "           0.14414,     0.14515,     0.14615,     0.14715,     0.14815,     0.14915,     0.15015,     0.15115,     0.15215,     0.15315,     0.15415,     0.15516,     0.15616,     0.15716,     0.15816,     0.15916,     0.16016,     0.16116,     0.16216,     0.16316,     0.16416,     0.16517,     0.16617,     0.16717,\n",
            "           0.16817,     0.16917,     0.17017,     0.17117,     0.17217,     0.17317,     0.17417,     0.17518,     0.17618,     0.17718,     0.17818,     0.17918,     0.18018,     0.18118,     0.18218,     0.18318,     0.18418,     0.18519,     0.18619,     0.18719,     0.18819,     0.18919,     0.19019,     0.19119,\n",
            "           0.19219,     0.19319,     0.19419,      0.1952,      0.1962,      0.1972,      0.1982,      0.1992,      0.2002,      0.2012,      0.2022,      0.2032,      0.2042,     0.20521,     0.20621,     0.20721,     0.20821,     0.20921,     0.21021,     0.21121,     0.21221,     0.21321,     0.21421,     0.21522,\n",
            "           0.21622,     0.21722,     0.21822,     0.21922,     0.22022,     0.22122,     0.22222,     0.22322,     0.22422,     0.22523,     0.22623,     0.22723,     0.22823,     0.22923,     0.23023,     0.23123,     0.23223,     0.23323,     0.23423,     0.23524,     0.23624,     0.23724,     0.23824,     0.23924,\n",
            "           0.24024,     0.24124,     0.24224,     0.24324,     0.24424,     0.24525,     0.24625,     0.24725,     0.24825,     0.24925,     0.25025,     0.25125,     0.25225,     0.25325,     0.25425,     0.25526,     0.25626,     0.25726,     0.25826,     0.25926,     0.26026,     0.26126,     0.26226,     0.26326,\n",
            "           0.26426,     0.26527,     0.26627,     0.26727,     0.26827,     0.26927,     0.27027,     0.27127,     0.27227,     0.27327,     0.27427,     0.27528,     0.27628,     0.27728,     0.27828,     0.27928,     0.28028,     0.28128,     0.28228,     0.28328,     0.28428,     0.28529,     0.28629,     0.28729,\n",
            "           0.28829,     0.28929,     0.29029,     0.29129,     0.29229,     0.29329,     0.29429,      0.2953,      0.2963,      0.2973,      0.2983,      0.2993,      0.3003,      0.3013,      0.3023,      0.3033,      0.3043,     0.30531,     0.30631,     0.30731,     0.30831,     0.30931,     0.31031,     0.31131,\n",
            "           0.31231,     0.31331,     0.31431,     0.31532,     0.31632,     0.31732,     0.31832,     0.31932,     0.32032,     0.32132,     0.32232,     0.32332,     0.32432,     0.32533,     0.32633,     0.32733,     0.32833,     0.32933,     0.33033,     0.33133,     0.33233,     0.33333,     0.33433,     0.33534,\n",
            "           0.33634,     0.33734,     0.33834,     0.33934,     0.34034,     0.34134,     0.34234,     0.34334,     0.34434,     0.34535,     0.34635,     0.34735,     0.34835,     0.34935,     0.35035,     0.35135,     0.35235,     0.35335,     0.35435,     0.35536,     0.35636,     0.35736,     0.35836,     0.35936,\n",
            "           0.36036,     0.36136,     0.36236,     0.36336,     0.36436,     0.36537,     0.36637,     0.36737,     0.36837,     0.36937,     0.37037,     0.37137,     0.37237,     0.37337,     0.37437,     0.37538,     0.37638,     0.37738,     0.37838,     0.37938,     0.38038,     0.38138,     0.38238,     0.38338,\n",
            "           0.38438,     0.38539,     0.38639,     0.38739,     0.38839,     0.38939,     0.39039,     0.39139,     0.39239,     0.39339,     0.39439,      0.3954,      0.3964,      0.3974,      0.3984,      0.3994,      0.4004,      0.4014,      0.4024,      0.4034,      0.4044,     0.40541,     0.40641,     0.40741,\n",
            "           0.40841,     0.40941,     0.41041,     0.41141,     0.41241,     0.41341,     0.41441,     0.41542,     0.41642,     0.41742,     0.41842,     0.41942,     0.42042,     0.42142,     0.42242,     0.42342,     0.42442,     0.42543,     0.42643,     0.42743,     0.42843,     0.42943,     0.43043,     0.43143,\n",
            "           0.43243,     0.43343,     0.43443,     0.43544,     0.43644,     0.43744,     0.43844,     0.43944,     0.44044,     0.44144,     0.44244,     0.44344,     0.44444,     0.44545,     0.44645,     0.44745,     0.44845,     0.44945,     0.45045,     0.45145,     0.45245,     0.45345,     0.45445,     0.45546,\n",
            "           0.45646,     0.45746,     0.45846,     0.45946,     0.46046,     0.46146,     0.46246,     0.46346,     0.46446,     0.46547,     0.46647,     0.46747,     0.46847,     0.46947,     0.47047,     0.47147,     0.47247,     0.47347,     0.47447,     0.47548,     0.47648,     0.47748,     0.47848,     0.47948,\n",
            "           0.48048,     0.48148,     0.48248,     0.48348,     0.48448,     0.48549,     0.48649,     0.48749,     0.48849,     0.48949,     0.49049,     0.49149,     0.49249,     0.49349,     0.49449,      0.4955,      0.4965,      0.4975,      0.4985,      0.4995,      0.5005,      0.5015,      0.5025,      0.5035,\n",
            "            0.5045,     0.50551,     0.50651,     0.50751,     0.50851,     0.50951,     0.51051,     0.51151,     0.51251,     0.51351,     0.51451,     0.51552,     0.51652,     0.51752,     0.51852,     0.51952,     0.52052,     0.52152,     0.52252,     0.52352,     0.52452,     0.52553,     0.52653,     0.52753,\n",
            "           0.52853,     0.52953,     0.53053,     0.53153,     0.53253,     0.53353,     0.53453,     0.53554,     0.53654,     0.53754,     0.53854,     0.53954,     0.54054,     0.54154,     0.54254,     0.54354,     0.54454,     0.54555,     0.54655,     0.54755,     0.54855,     0.54955,     0.55055,     0.55155,\n",
            "           0.55255,     0.55355,     0.55455,     0.55556,     0.55656,     0.55756,     0.55856,     0.55956,     0.56056,     0.56156,     0.56256,     0.56356,     0.56456,     0.56557,     0.56657,     0.56757,     0.56857,     0.56957,     0.57057,     0.57157,     0.57257,     0.57357,     0.57457,     0.57558,\n",
            "           0.57658,     0.57758,     0.57858,     0.57958,     0.58058,     0.58158,     0.58258,     0.58358,     0.58458,     0.58559,     0.58659,     0.58759,     0.58859,     0.58959,     0.59059,     0.59159,     0.59259,     0.59359,     0.59459,      0.5956,      0.5966,      0.5976,      0.5986,      0.5996,\n",
            "            0.6006,      0.6016,      0.6026,      0.6036,      0.6046,     0.60561,     0.60661,     0.60761,     0.60861,     0.60961,     0.61061,     0.61161,     0.61261,     0.61361,     0.61461,     0.61562,     0.61662,     0.61762,     0.61862,     0.61962,     0.62062,     0.62162,     0.62262,     0.62362,\n",
            "           0.62462,     0.62563,     0.62663,     0.62763,     0.62863,     0.62963,     0.63063,     0.63163,     0.63263,     0.63363,     0.63463,     0.63564,     0.63664,     0.63764,     0.63864,     0.63964,     0.64064,     0.64164,     0.64264,     0.64364,     0.64464,     0.64565,     0.64665,     0.64765,\n",
            "           0.64865,     0.64965,     0.65065,     0.65165,     0.65265,     0.65365,     0.65465,     0.65566,     0.65666,     0.65766,     0.65866,     0.65966,     0.66066,     0.66166,     0.66266,     0.66366,     0.66466,     0.66567,     0.66667,     0.66767,     0.66867,     0.66967,     0.67067,     0.67167,\n",
            "           0.67267,     0.67367,     0.67467,     0.67568,     0.67668,     0.67768,     0.67868,     0.67968,     0.68068,     0.68168,     0.68268,     0.68368,     0.68468,     0.68569,     0.68669,     0.68769,     0.68869,     0.68969,     0.69069,     0.69169,     0.69269,     0.69369,     0.69469,      0.6957,\n",
            "            0.6967,      0.6977,      0.6987,      0.6997,      0.7007,      0.7017,      0.7027,      0.7037,      0.7047,     0.70571,     0.70671,     0.70771,     0.70871,     0.70971,     0.71071,     0.71171,     0.71271,     0.71371,     0.71471,     0.71572,     0.71672,     0.71772,     0.71872,     0.71972,\n",
            "           0.72072,     0.72172,     0.72272,     0.72372,     0.72472,     0.72573,     0.72673,     0.72773,     0.72873,     0.72973,     0.73073,     0.73173,     0.73273,     0.73373,     0.73473,     0.73574,     0.73674,     0.73774,     0.73874,     0.73974,     0.74074,     0.74174,     0.74274,     0.74374,\n",
            "           0.74474,     0.74575,     0.74675,     0.74775,     0.74875,     0.74975,     0.75075,     0.75175,     0.75275,     0.75375,     0.75475,     0.75576,     0.75676,     0.75776,     0.75876,     0.75976,     0.76076,     0.76176,     0.76276,     0.76376,     0.76476,     0.76577,     0.76677,     0.76777,\n",
            "           0.76877,     0.76977,     0.77077,     0.77177,     0.77277,     0.77377,     0.77477,     0.77578,     0.77678,     0.77778,     0.77878,     0.77978,     0.78078,     0.78178,     0.78278,     0.78378,     0.78478,     0.78579,     0.78679,     0.78779,     0.78879,     0.78979,     0.79079,     0.79179,\n",
            "           0.79279,     0.79379,     0.79479,      0.7958,      0.7968,      0.7978,      0.7988,      0.7998,      0.8008,      0.8018,      0.8028,      0.8038,      0.8048,     0.80581,     0.80681,     0.80781,     0.80881,     0.80981,     0.81081,     0.81181,     0.81281,     0.81381,     0.81481,     0.81582,\n",
            "           0.81682,     0.81782,     0.81882,     0.81982,     0.82082,     0.82182,     0.82282,     0.82382,     0.82482,     0.82583,     0.82683,     0.82783,     0.82883,     0.82983,     0.83083,     0.83183,     0.83283,     0.83383,     0.83483,     0.83584,     0.83684,     0.83784,     0.83884,     0.83984,\n",
            "           0.84084,     0.84184,     0.84284,     0.84384,     0.84484,     0.84585,     0.84685,     0.84785,     0.84885,     0.84985,     0.85085,     0.85185,     0.85285,     0.85385,     0.85485,     0.85586,     0.85686,     0.85786,     0.85886,     0.85986,     0.86086,     0.86186,     0.86286,     0.86386,\n",
            "           0.86486,     0.86587,     0.86687,     0.86787,     0.86887,     0.86987,     0.87087,     0.87187,     0.87287,     0.87387,     0.87487,     0.87588,     0.87688,     0.87788,     0.87888,     0.87988,     0.88088,     0.88188,     0.88288,     0.88388,     0.88488,     0.88589,     0.88689,     0.88789,\n",
            "           0.88889,     0.88989,     0.89089,     0.89189,     0.89289,     0.89389,     0.89489,      0.8959,      0.8969,      0.8979,      0.8989,      0.8999,      0.9009,      0.9019,      0.9029,      0.9039,      0.9049,     0.90591,     0.90691,     0.90791,     0.90891,     0.90991,     0.91091,     0.91191,\n",
            "           0.91291,     0.91391,     0.91491,     0.91592,     0.91692,     0.91792,     0.91892,     0.91992,     0.92092,     0.92192,     0.92292,     0.92392,     0.92492,     0.92593,     0.92693,     0.92793,     0.92893,     0.92993,     0.93093,     0.93193,     0.93293,     0.93393,     0.93493,     0.93594,\n",
            "           0.93694,     0.93794,     0.93894,     0.93994,     0.94094,     0.94194,     0.94294,     0.94394,     0.94494,     0.94595,     0.94695,     0.94795,     0.94895,     0.94995,     0.95095,     0.95195,     0.95295,     0.95395,     0.95495,     0.95596,     0.95696,     0.95796,     0.95896,     0.95996,\n",
            "           0.96096,     0.96196,     0.96296,     0.96396,     0.96496,     0.96597,     0.96697,     0.96797,     0.96897,     0.96997,     0.97097,     0.97197,     0.97297,     0.97397,     0.97497,     0.97598,     0.97698,     0.97798,     0.97898,     0.97998,     0.98098,     0.98198,     0.98298,     0.98398,\n",
            "           0.98498,     0.98599,     0.98699,     0.98799,     0.98899,     0.98999,     0.99099,     0.99199,     0.99299,     0.99399,     0.99499,       0.996,       0.997,       0.998,       0.999,           1]), array([[          1,           1,           1, ...,           0,           0,           0],\n",
            "       [          1,           1,           1, ...,           0,           0,           0],\n",
            "       [          1,           1,           1, ...,           0,           0,           0],\n",
            "       ...,\n",
            "       [          1,           1,           1, ...,           0,           0,           0],\n",
            "       [          1,           1,           1, ...,           0,           0,           0],\n",
            "       [          1,           1,           1, ...,           0,           0,           0]]), 'Confidence', 'Recall']]\n",
            "fitness: 0.817192554930267\n",
            "keys: ['metrics/precision(B)', 'metrics/recall(B)', 'metrics/mAP50(B)', 'metrics/mAP50-95(B)']\n",
            "maps: array([    0.78841,     0.83519,     0.85167,     0.82543,     0.83349,     0.87198,     0.86388,     0.78159,     0.46864,     0.65055,      0.8475,     0.83086,     0.84116,     0.79096,     0.79211,      0.7121,     0.75843,     0.79498,     0.83343,     0.85341,      0.8878,     0.70081,     0.85202,      0.8955,\n",
            "           0.76344,     0.92149])\n",
            "names: {0: 'A', 1: 'B', 2: 'C', 3: 'D', 4: 'E', 5: 'F', 6: 'G', 7: 'H', 8: 'I', 9: 'J', 10: 'K', 11: 'L', 12: 'M', 13: 'N', 14: 'O', 15: 'P', 16: 'Q', 17: 'R', 18: 'S', 19: 'T', 20: 'U', 21: 'V', 22: 'W', 23: 'X', 24: 'Y', 25: 'Z'}\n",
            "plot: True\n",
            "results_dict: {'metrics/precision(B)': 0.9122425946581054, 'metrics/recall(B)': 0.900544355263722, 'metrics/mAP50(B)': 0.9557165750915751, 'metrics/mAP50-95(B)': 0.8018009971345661, 'fitness': 0.817192554930267}\n",
            "save_dir: PosixPath('runs/detect/sign_language_model2')\n",
            "speed: {'preprocess': 0.3831701146231757, 'inference': 5.264288849300808, 'loss': 0.0009884436925252278, 'postprocess': 4.019930958747864}\n",
            "task: 'detect'\n"
          ]
        }
      ]
    },
    {
      "cell_type": "markdown",
      "source": [
        "# Testing"
      ],
      "metadata": {
        "id": "ClHMtWdtjm3y"
      }
    },
    {
      "cell_type": "code",
      "source": [
        "\n",
        "model = YOLO(\"/content/runs/detect/sign_language_model/weights/sign_language_model.pt\")\n",
        "\n",
        "results = model(\"/content/runs/detect/sign_language_model/H25_jpg.rf.dce08bcb4d091593dda19db8b0d2b155.jpg\", save=True)\n",
        "\n",
        "results[0].plot()\n"
      ],
      "metadata": {
        "colab": {
          "base_uri": "https://localhost:8080/",
          "height": 526
        },
        "id": "SsHlLftBbNfG",
        "outputId": "3fbbf783-76d9-4dc6-ca2e-5bf2c06ad854"
      },
      "execution_count": 7,
      "outputs": [
        {
          "output_type": "stream",
          "name": "stdout",
          "text": [
            "\n",
            "image 1/1 /content/runs/detect/sign_language_model/H25_jpg.rf.dce08bcb4d091593dda19db8b0d2b155.jpg: 640x640 1 H, 8.0ms\n",
            "Speed: 6.0ms preprocess, 8.0ms inference, 1.6ms postprocess per image at shape (1, 3, 640, 640)\n",
            "Results saved to \u001b[1mruns/detect/predict\u001b[0m\n"
          ]
        },
        {
          "output_type": "execute_result",
          "data": {
            "text/plain": [
              "array([[[137, 136, 152],\n",
              "        [137, 136, 152],\n",
              "        [137, 136, 152],\n",
              "        ...,\n",
              "        [145, 148, 163],\n",
              "        [145, 148, 163],\n",
              "        [145, 148, 163]],\n",
              "\n",
              "       [[137, 136, 152],\n",
              "        [137, 136, 152],\n",
              "        [138, 137, 153],\n",
              "        ...,\n",
              "        [145, 148, 163],\n",
              "        [145, 148, 163],\n",
              "        [145, 148, 163]],\n",
              "\n",
              "       [[137, 136, 152],\n",
              "        [138, 137, 153],\n",
              "        [138, 137, 153],\n",
              "        ...,\n",
              "        [145, 148, 163],\n",
              "        [145, 148, 163],\n",
              "        [145, 148, 163]],\n",
              "\n",
              "       ...,\n",
              "\n",
              "       [[  0,   1,   2],\n",
              "        [  0,   1,   2],\n",
              "        [  0,   1,   2],\n",
              "        ...,\n",
              "        [129, 143, 161],\n",
              "        [129, 143, 161],\n",
              "        [129, 143, 161]],\n",
              "\n",
              "       [[  0,   1,   2],\n",
              "        [  0,   2,   2],\n",
              "        [  0,   1,   2],\n",
              "        ...,\n",
              "        [129, 143, 161],\n",
              "        [129, 143, 161],\n",
              "        [129, 143, 161]],\n",
              "\n",
              "       [[  0,   2,   2],\n",
              "        [  0,   2,   2],\n",
              "        [  0,   2,   2],\n",
              "        ...,\n",
              "        [129, 143, 161],\n",
              "        [129, 143, 161],\n",
              "        [129, 143, 161]]], dtype=uint8)"
            ],
            "text/html": [
              "<style>\n",
              "      .ndarray_repr .ndarray_raw_data {\n",
              "        display: none;\n",
              "      }\n",
              "      .ndarray_repr.show_array .ndarray_raw_data {\n",
              "        display: block;\n",
              "      }\n",
              "      .ndarray_repr.show_array .ndarray_image_preview {\n",
              "        display: none;\n",
              "      }\n",
              "      </style>\n",
              "      <div id=\"id-6ce18c23-84ea-4dc8-b335-13360c741138\" class=\"ndarray_repr\"><pre>ndarray (416, 416, 3) <button style=\"padding: 0 2px;\">show data</button></pre><img src=\"data:image/png;base64,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\" class=\"ndarray_image_preview\" /><pre class=\"ndarray_raw_data\">array([[[137, 136, 152],\n",
              "        [137, 136, 152],\n",
              "        [137, 136, 152],\n",
              "        ...,\n",
              "        [145, 148, 163],\n",
              "        [145, 148, 163],\n",
              "        [145, 148, 163]],\n",
              "\n",
              "       [[137, 136, 152],\n",
              "        [137, 136, 152],\n",
              "        [138, 137, 153],\n",
              "        ...,\n",
              "        [145, 148, 163],\n",
              "        [145, 148, 163],\n",
              "        [145, 148, 163]],\n",
              "\n",
              "       [[137, 136, 152],\n",
              "        [138, 137, 153],\n",
              "        [138, 137, 153],\n",
              "        ...,\n",
              "        [145, 148, 163],\n",
              "        [145, 148, 163],\n",
              "        [145, 148, 163]],\n",
              "\n",
              "       ...,\n",
              "\n",
              "       [[  0,   1,   2],\n",
              "        [  0,   1,   2],\n",
              "        [  0,   1,   2],\n",
              "        ...,\n",
              "        [129, 143, 161],\n",
              "        [129, 143, 161],\n",
              "        [129, 143, 161]],\n",
              "\n",
              "       [[  0,   1,   2],\n",
              "        [  0,   2,   2],\n",
              "        [  0,   1,   2],\n",
              "        ...,\n",
              "        [129, 143, 161],\n",
              "        [129, 143, 161],\n",
              "        [129, 143, 161]],\n",
              "\n",
              "       [[  0,   2,   2],\n",
              "        [  0,   2,   2],\n",
              "        [  0,   2,   2],\n",
              "        ...,\n",
              "        [129, 143, 161],\n",
              "        [129, 143, 161],\n",
              "        [129, 143, 161]]], dtype=uint8)</pre></div><script>\n",
              "      (() => {\n",
              "      const titles = ['show data', 'hide data'];\n",
              "      let index = 0\n",
              "      document.querySelector('#id-6ce18c23-84ea-4dc8-b335-13360c741138 button').onclick = (e) => {\n",
              "        document.querySelector('#id-6ce18c23-84ea-4dc8-b335-13360c741138').classList.toggle('show_array');\n",
              "        index = (++index) % 2;\n",
              "        document.querySelector('#id-6ce18c23-84ea-4dc8-b335-13360c741138 button').textContent = titles[index];\n",
              "        e.preventDefault();\n",
              "        e.stopPropagation();\n",
              "      }\n",
              "      })();\n",
              "    </script>"
            ]
          },
          "metadata": {},
          "execution_count": 7
        }
      ]
    },
    {
      "cell_type": "markdown",
      "source": [
        "**Real Time Implementation Using OpenCV**"
      ],
      "metadata": {
        "id": "bJxm5h85jrXk"
      }
    },
    {
      "cell_type": "code",
      "source": [
        "import cv2\n",
        "import numpy as np\n",
        "from ultralytics import YOLO\n",
        "\n",
        "\n",
        "yolo_model = YOLO(\"best.pt\")\n",
        "\n",
        "cap = cv2.VideoCapture(0)\n",
        "\n",
        "while cap.isOpened():\n",
        "    ret, frame = cap.read()\n",
        "    if not ret:\n",
        "        break\n",
        "\n",
        "\n",
        "    rgb_frame = cv2.cvtColor(frame, cv2.COLOR_BGR2RGB)\n",
        "\n",
        "\n",
        "    yolo_results = yolo_model(rgb_frame)\n",
        "\n",
        "    for box in yolo_results[0].boxes:\n",
        "\n",
        "        x1, y1, x2, y2 = map(int, box.xyxy[0])\n",
        "        class_id = int(box.cls[0])\n",
        "        confidence = box.conf[0]\n",
        "        label = chr(65 + class_id)\n",
        "\n",
        "\n",
        "        cv2.rectangle(frame, (x1, y1), (x2, y2), (255, 0, 0), 2)\n",
        "        cv2.putText(frame, f\"{label} ({confidence:.2f})\", (x1, y1 - 10),\n",
        "                    cv2.FONT_HERSHEY_SIMPLEX, 0.6, (255, 0, 0), 2)\n",
        "\n",
        "\n",
        "    cv2.imshow(\"Sign Language Detection\", frame)\n",
        "\n",
        "\n",
        "    if cv2.waitKey(1) & 0xFF == ord('q'):\n",
        "        break\n",
        "\n",
        "cap.release()\n",
        "cv2.destroyAllWindows()\n"
      ],
      "metadata": {
        "id": "R_ODNO1FbSMU"
      },
      "execution_count": null,
      "outputs": []
    }
  ]
}